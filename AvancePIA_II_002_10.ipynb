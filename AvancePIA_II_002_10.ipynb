{
  "nbformat": 4,
  "nbformat_minor": 0,
  "metadata": {
    "colab": {
      "name": "Copia de AvancePIA_II_002_10",
      "provenance": [],
      "collapsed_sections": [],
      "include_colab_link": true
    },
    "kernelspec": {
      "display_name": "Python 3",
      "name": "python3"
    }
  },
  "cells": [
    {
      "cell_type": "markdown",
      "metadata": {
        "id": "view-in-github",
        "colab_type": "text"
      },
      "source": [
        "<a href=\"https://colab.research.google.com/github/CruzLermaJorge/MineriaDatosJorge/blob/main/AvancePIA_II_002_10.ipynb\" target=\"_parent\"><img src=\"https://colab.research.google.com/assets/colab-badge.svg\" alt=\"Open In Colab\"/></a>"
      ]
    },
    {
      "cell_type": "markdown",
      "metadata": {
        "id": "TimUJ-XcUfjj"
      },
      "source": [
        "## **Avance** **PIA**"
      ]
    },
    {
      "cell_type": "markdown",
      "metadata": {
        "id": "8SfV10T0VYSr"
      },
      "source": [
        "# Equipo: 10\n",
        "Grupo: 002 Miércoles\n",
        "\n",
        "### Integrantes\n",
        "- 1864878 Cerda Serrato Alan René\n",
        "- 1867341 Cruz Lerma Jorge Antonio\n",
        "- 1941475 Galindo Vázquez Jesús Alfonso\n",
        "- 1630606 Valencia González Jesús Eduardo"
      ]
    },
    {
      "cell_type": "markdown",
      "metadata": {
        "id": "mYc_5ghjUl1o"
      },
      "source": [
        "# 1.- Base de Datos: Datos históricos del Bitcoin\n",
        "\n",
        "**Titulo Alternativo**"
      ]
    },
    {
      "cell_type": "markdown",
      "metadata": {
        "id": "AGZ4SFNPXDVl"
      },
      "source": [
        "> A) Historical Bitcoin Data\n",
        "\n",
        "> B) https://www.kaggle.com/umeshkumar017/historical-bitcoin-data?select=Bitcoin+Historical+Data+-+In+Rupees.csv\n",
        "\n",
        "\n",
        "\n",
        "\n",
        "\n",
        "\n"
      ]
    },
    {
      "cell_type": "markdown",
      "metadata": {
        "id": "iA9YmCM_XnYK"
      },
      "source": [
        "# 2.- Introducción General"
      ]
    },
    {
      "cell_type": "markdown",
      "metadata": {
        "id": "1FyZoc9GXzZA"
      },
      "source": [
        "\n",
        "\n",
        "> A) ¿Qué es el Bitcoin? \n",
        "\n",
        ">Bitcoin es un protocolo, proyecto de código abierto y red entre iguales que se utiliza como criptomoneda, sistema de pago y mercancía.\n",
        ">Fue concebida en 2008​ por una entidad conocida bajo el seudónimo de Satoshi Nakamoto, cuya identidad concreta se desconoce. \n",
        ">En la actualidad una cantidad considerable de empresas y pequeños negocios aceptan bitcoins como medio de pago​ para servicios de todo tipo. Su alcance internacional, y el hecho de que los usuarios pueden comerciar de forma pseudoanónima, ha permitido que se abra paso en sectores cada vez más regulados, como apuestas en línea y partidas de póker.\n",
        "\n",
        ">El uso de Bitcoin y los servicios relacionados con él están sujetos a la legislación de cada país, provincia, municipio, u otras entidades administrativas, pudiendo ser legal o ilegal dependiendo de si se han realizado decretos al respecto, o como consecuencia de la decisión expresa de reconocer o tratarlo como divisa, valor, mercancía, etc, por alguna entidad reguladora con jurisdicción en alguna de esas materias. \n",
        "\n"
      ]
    },
    {
      "cell_type": "markdown",
      "metadata": {
        "id": "D_tOQBbIZczl"
      },
      "source": [
        "# 3.- Descripción de los datos"
      ]
    },
    {
      "cell_type": "markdown",
      "metadata": {
        "id": "F3uucy5BZrw3"
      },
      "source": [
        "> A) Los datos son descritos con una tabla que avanza mediante el tiempo, registrando la variabilidad de valor en la moneda. No presenta gráficos ni recursos visuales.\n",
        "\n",
        "> B) Se tienen 7 columnas, las cuales son:\n",
        "1.   **Date** <- Fecha del dia a registrar. Tipo de dato: str \n",
        "2.   **Price** <- Precio de la moneda. Tipo de dato: float\n",
        "3.   **Open** <- Valor de apertura. Tipo de dato: float\n",
        "4.   **High** <- El valor más alto. Tipo de dato: float\n",
        "5.   **Low** <- El valor más bajo. Tipo de dato: float\n",
        "6.   **Vol.** <- Volumen de Bitcoins comerciados. Tipo de dato: str\n",
        "7.   **Change %** <- Porcentaje de cambio. Tipo de dato: str\n",
        " Tamaño de la base: 7 columnas y 4057 filas."
      ]
    },
    {
      "cell_type": "markdown",
      "metadata": {
        "id": "9D7l40nBcr9N"
      },
      "source": [
        "# 4.- Justificación del uso de datos"
      ]
    },
    {
      "cell_type": "markdown",
      "metadata": {
        "id": "N86fbQYkdMtf"
      },
      "source": [
        "> A) Tenemos una gran curiosidad por el Bitcoin especialmente porque el mundo de las criptomonedas es algo que está en tendencias actualmente, sobre todo por su altísimo valor ( a fecha de hoy, 30/08/2021, 1 bitcoin equivale a 975,756.02 pesos mexicanos. \n",
        "> Pueden tomar aún mas relevancia en el futuro, y para nuestra carrera (Actuaría), es de suma importancia estar enterados de las nuevas tendencias del mundo financiero.\n",
        "\n",
        "> B) Alguno de los beneficios sobre estar investigando acerca de este tema, es que podriamos estar mejor preparados para una posible inversión u otro movimiento con la moneda.\n",
        "Creemos que sin duda es un tema muy relevante, ya que las criptomonedas pueden ser el futuro de la economía."
      ]
    },
    {
      "cell_type": "markdown",
      "metadata": {
        "id": "yxaHspRfgYzr"
      },
      "source": [
        "# 5.- Objetivo Principal y secundario\n",
        "\n"
      ]
    },
    {
      "cell_type": "markdown",
      "metadata": {
        "id": "gO8nhnpYhC32"
      },
      "source": [
        "> A) El objetivo principal es predecir si es viable invertir en el Bitcoin a corto y mediano plazo mediante sus cambios de valor.\n",
        "\n",
        ">B) El objetivo secundario si el valor del bitcoin seguira a la alza."
      ]
    },
    {
      "cell_type": "markdown",
      "metadata": {
        "id": "pqzaFWiCnpp3"
      },
      "source": [
        "# 6.- Preguntas de Interés"
      ]
    },
    {
      "cell_type": "markdown",
      "metadata": {
        "id": "Rt0NNdXtn014"
      },
      "source": [
        ">1.-¿Cuál es precio más alto que ha alcanzado el Bitcoin?\n",
        "\n",
        ">2.-¿En que año empezó el auge del valor del Bitcoin?"
      ]
    },
    {
      "cell_type": "markdown",
      "metadata": {
        "id": "R1J1MFu2qu69"
      },
      "source": [
        "# 7.- Parte de la Programación"
      ]
    },
    {
      "cell_type": "code",
      "metadata": {
        "id": "wycJnZQuHzHu"
      },
      "source": [
        "import pandas as pd\n",
        "import numpy as np\n",
        "import json"
      ],
      "execution_count": null,
      "outputs": []
    },
    {
      "cell_type": "code",
      "metadata": {
        "id": "eCLR5LcaICE4"
      },
      "source": [
        "df = pd.read_csv(\"/content/sample_data/Bitcoin Historical Data - In Rupees.csv\")"
      ],
      "execution_count": null,
      "outputs": []
    },
    {
      "cell_type": "markdown",
      "metadata": {
        "id": "-T3OmxL5Ib4z"
      },
      "source": [
        "**Visualización de los datos**"
      ]
    },
    {
      "cell_type": "code",
      "metadata": {
        "id": "0Q0t5_TZIWBP",
        "colab": {
          "base_uri": "https://localhost:8080/"
        },
        "outputId": "d5fe87ff-2d06-4bf7-f4ca-3192beb3f0f0"
      },
      "source": [
        "df.shape"
      ],
      "execution_count": null,
      "outputs": [
        {
          "output_type": "execute_result",
          "data": {
            "text/plain": [
              "(4056, 7)"
            ]
          },
          "metadata": {},
          "execution_count": 81
        }
      ]
    },
    {
      "cell_type": "markdown",
      "metadata": {
        "id": "23yfQxciIgXz"
      },
      "source": [
        "Vista de los primeros 5 registros"
      ]
    },
    {
      "cell_type": "code",
      "metadata": {
        "id": "_QZruWPIIZHr",
        "colab": {
          "base_uri": "https://localhost:8080/",
          "height": 204
        },
        "outputId": "db5fdd8e-f759-492e-eccd-99e8c83eb2b5"
      },
      "source": [
        "df.head()"
      ],
      "execution_count": null,
      "outputs": [
        {
          "output_type": "execute_result",
          "data": {
            "text/html": [
              "<div>\n",
              "<style scoped>\n",
              "    .dataframe tbody tr th:only-of-type {\n",
              "        vertical-align: middle;\n",
              "    }\n",
              "\n",
              "    .dataframe tbody tr th {\n",
              "        vertical-align: top;\n",
              "    }\n",
              "\n",
              "    .dataframe thead th {\n",
              "        text-align: right;\n",
              "    }\n",
              "</style>\n",
              "<table border=\"1\" class=\"dataframe\">\n",
              "  <thead>\n",
              "    <tr style=\"text-align: right;\">\n",
              "      <th></th>\n",
              "      <th>Date</th>\n",
              "      <th>Price</th>\n",
              "      <th>Open</th>\n",
              "      <th>High</th>\n",
              "      <th>Low</th>\n",
              "      <th>Vol.</th>\n",
              "      <th>Change %</th>\n",
              "    </tr>\n",
              "  </thead>\n",
              "  <tbody>\n",
              "    <tr>\n",
              "      <th>0</th>\n",
              "      <td>Aug 24, 2021</td>\n",
              "      <td>48,846.3</td>\n",
              "      <td>49,532.5</td>\n",
              "      <td>49,847.4</td>\n",
              "      <td>48,812.4</td>\n",
              "      <td>59.89K</td>\n",
              "      <td>-1.40%</td>\n",
              "    </tr>\n",
              "    <tr>\n",
              "      <th>1</th>\n",
              "      <td>Aug 23, 2021</td>\n",
              "      <td>49,539.7</td>\n",
              "      <td>49,255.4</td>\n",
              "      <td>50,498.8</td>\n",
              "      <td>49,038.6</td>\n",
              "      <td>75.37K</td>\n",
              "      <td>0.58%</td>\n",
              "    </tr>\n",
              "    <tr>\n",
              "      <th>2</th>\n",
              "      <td>Aug 22, 2021</td>\n",
              "      <td>49,254.5</td>\n",
              "      <td>48,870.4</td>\n",
              "      <td>49,480.3</td>\n",
              "      <td>48,151.0</td>\n",
              "      <td>49.32K</td>\n",
              "      <td>0.77%</td>\n",
              "    </tr>\n",
              "    <tr>\n",
              "      <th>3</th>\n",
              "      <td>Aug 21, 2021</td>\n",
              "      <td>48,875.8</td>\n",
              "      <td>49,330.0</td>\n",
              "      <td>49,719.1</td>\n",
              "      <td>48,293.5</td>\n",
              "      <td>18.20K</td>\n",
              "      <td>-0.91%</td>\n",
              "    </tr>\n",
              "    <tr>\n",
              "      <th>4</th>\n",
              "      <td>Aug 20, 2021</td>\n",
              "      <td>49,324.0</td>\n",
              "      <td>46,756.7</td>\n",
              "      <td>49,343.3</td>\n",
              "      <td>46,646.8</td>\n",
              "      <td>83.19K</td>\n",
              "      <td>5.49%</td>\n",
              "    </tr>\n",
              "  </tbody>\n",
              "</table>\n",
              "</div>"
            ],
            "text/plain": [
              "           Date     Price      Open      High       Low    Vol. Change %\n",
              "0  Aug 24, 2021  48,846.3  49,532.5  49,847.4  48,812.4  59.89K   -1.40%\n",
              "1  Aug 23, 2021  49,539.7  49,255.4  50,498.8  49,038.6  75.37K    0.58%\n",
              "2  Aug 22, 2021  49,254.5  48,870.4  49,480.3  48,151.0  49.32K    0.77%\n",
              "3  Aug 21, 2021  48,875.8  49,330.0  49,719.1  48,293.5  18.20K   -0.91%\n",
              "4  Aug 20, 2021  49,324.0  46,756.7  49,343.3  46,646.8  83.19K    5.49%"
            ]
          },
          "metadata": {},
          "execution_count": 82
        }
      ]
    },
    {
      "cell_type": "markdown",
      "metadata": {
        "id": "Blhb3q42Ilyf"
      },
      "source": [
        "Vista de los ultimos 5 registros"
      ]
    },
    {
      "cell_type": "code",
      "metadata": {
        "id": "nrNNneP-IpA5",
        "colab": {
          "base_uri": "https://localhost:8080/",
          "height": 204
        },
        "outputId": "17f0b422-7317-4dbd-e1e0-fbbe95459890"
      },
      "source": [
        "df.tail()"
      ],
      "execution_count": null,
      "outputs": [
        {
          "output_type": "execute_result",
          "data": {
            "text/html": [
              "<div>\n",
              "<style scoped>\n",
              "    .dataframe tbody tr th:only-of-type {\n",
              "        vertical-align: middle;\n",
              "    }\n",
              "\n",
              "    .dataframe tbody tr th {\n",
              "        vertical-align: top;\n",
              "    }\n",
              "\n",
              "    .dataframe thead th {\n",
              "        text-align: right;\n",
              "    }\n",
              "</style>\n",
              "<table border=\"1\" class=\"dataframe\">\n",
              "  <thead>\n",
              "    <tr style=\"text-align: right;\">\n",
              "      <th></th>\n",
              "      <th>Date</th>\n",
              "      <th>Price</th>\n",
              "      <th>Open</th>\n",
              "      <th>High</th>\n",
              "      <th>Low</th>\n",
              "      <th>Vol.</th>\n",
              "      <th>Change %</th>\n",
              "    </tr>\n",
              "  </thead>\n",
              "  <tbody>\n",
              "    <tr>\n",
              "      <th>4051</th>\n",
              "      <td>Jul 22, 2010</td>\n",
              "      <td>0.1</td>\n",
              "      <td>0.1</td>\n",
              "      <td>0.1</td>\n",
              "      <td>0.1</td>\n",
              "      <td>2.16K</td>\n",
              "      <td>0.00%</td>\n",
              "    </tr>\n",
              "    <tr>\n",
              "      <th>4052</th>\n",
              "      <td>Jul 21, 2010</td>\n",
              "      <td>0.1</td>\n",
              "      <td>0.1</td>\n",
              "      <td>0.1</td>\n",
              "      <td>0.1</td>\n",
              "      <td>0.58K</td>\n",
              "      <td>0.00%</td>\n",
              "    </tr>\n",
              "    <tr>\n",
              "      <th>4053</th>\n",
              "      <td>Jul 20, 2010</td>\n",
              "      <td>0.1</td>\n",
              "      <td>0.1</td>\n",
              "      <td>0.1</td>\n",
              "      <td>0.1</td>\n",
              "      <td>0.26K</td>\n",
              "      <td>0.00%</td>\n",
              "    </tr>\n",
              "    <tr>\n",
              "      <th>4054</th>\n",
              "      <td>Jul 19, 2010</td>\n",
              "      <td>0.1</td>\n",
              "      <td>0.1</td>\n",
              "      <td>0.1</td>\n",
              "      <td>0.1</td>\n",
              "      <td>0.57K</td>\n",
              "      <td>0.00%</td>\n",
              "    </tr>\n",
              "    <tr>\n",
              "      <th>4055</th>\n",
              "      <td>Jul 18, 2010</td>\n",
              "      <td>0.1</td>\n",
              "      <td>0.0</td>\n",
              "      <td>0.1</td>\n",
              "      <td>0.1</td>\n",
              "      <td>0.08K</td>\n",
              "      <td>0.00%</td>\n",
              "    </tr>\n",
              "  </tbody>\n",
              "</table>\n",
              "</div>"
            ],
            "text/plain": [
              "              Date Price Open High  Low   Vol. Change %\n",
              "4051  Jul 22, 2010   0.1  0.1  0.1  0.1  2.16K    0.00%\n",
              "4052  Jul 21, 2010   0.1  0.1  0.1  0.1  0.58K    0.00%\n",
              "4053  Jul 20, 2010   0.1  0.1  0.1  0.1  0.26K    0.00%\n",
              "4054  Jul 19, 2010   0.1  0.1  0.1  0.1  0.57K    0.00%\n",
              "4055  Jul 18, 2010   0.1  0.0  0.1  0.1  0.08K    0.00%"
            ]
          },
          "metadata": {},
          "execution_count": 83
        }
      ]
    },
    {
      "cell_type": "markdown",
      "metadata": {
        "id": "luHuDOEuItUH"
      },
      "source": [
        "\n",
        "**Descrpcion básica de columnas**"
      ]
    },
    {
      "cell_type": "code",
      "metadata": {
        "id": "Cu0kw3obIubf",
        "colab": {
          "base_uri": "https://localhost:8080/"
        },
        "outputId": "caf99e7c-7983-45f5-8049-8cac69c1fc3c"
      },
      "source": [
        "df.columns"
      ],
      "execution_count": null,
      "outputs": [
        {
          "output_type": "execute_result",
          "data": {
            "text/plain": [
              "Index(['Date', 'Price', 'Open', 'High', 'Low', 'Vol.', 'Change %'], dtype='object')"
            ]
          },
          "metadata": {},
          "execution_count": 84
        }
      ]
    },
    {
      "cell_type": "markdown",
      "metadata": {
        "id": "A8NF3XFyI32p"
      },
      "source": [
        "\n",
        "Tipos de dato en las columnas"
      ]
    },
    {
      "cell_type": "code",
      "metadata": {
        "id": "_joYIIDZI4lQ",
        "colab": {
          "base_uri": "https://localhost:8080/"
        },
        "outputId": "ec3b88af-3c71-479c-cad8-605c27afe912"
      },
      "source": [
        "df.dtypes"
      ],
      "execution_count": null,
      "outputs": [
        {
          "output_type": "execute_result",
          "data": {
            "text/plain": [
              "Date        object\n",
              "Price       object\n",
              "Open        object\n",
              "High        object\n",
              "Low         object\n",
              "Vol.        object\n",
              "Change %    object\n",
              "dtype: object"
            ]
          },
          "metadata": {},
          "execution_count": 85
        }
      ]
    },
    {
      "cell_type": "markdown",
      "metadata": {
        "id": "LTrDxe9YI7DS"
      },
      "source": [
        "Cantidad de columnas nulas"
      ]
    },
    {
      "cell_type": "code",
      "metadata": {
        "id": "sfM3hUYAI8Xv",
        "colab": {
          "base_uri": "https://localhost:8080/"
        },
        "outputId": "2b891406-6b6a-4b55-85ba-634bcbeb6c8a"
      },
      "source": [
        "\n",
        "df.isnull().sum()"
      ],
      "execution_count": null,
      "outputs": [
        {
          "output_type": "execute_result",
          "data": {
            "text/plain": [
              "Date        0\n",
              "Price       0\n",
              "Open        0\n",
              "High        0\n",
              "Low         0\n",
              "Vol.        0\n",
              "Change %    0\n",
              "dtype: int64"
            ]
          },
          "metadata": {},
          "execution_count": 86
        }
      ]
    },
    {
      "cell_type": "markdown",
      "metadata": {
        "id": "J18T428yI-va"
      },
      "source": [
        "**Cambiar nombres de columnas**"
      ]
    },
    {
      "cell_type": "code",
      "metadata": {
        "id": "jZmDgL4XJDOJ",
        "colab": {
          "base_uri": "https://localhost:8080/",
          "height": 419
        },
        "outputId": "59c841c1-7fdc-4db0-8648-f1684eb14d24"
      },
      "source": [
        "df = df.rename(columns = {'Price':'Precio'})\n",
        "df = df.rename(columns = {'Date':'Fecha'})\n",
        "df = df.rename(columns = {'Open':'Mañana'})\n",
        "df = df.rename(columns = {'High':'Alto'})\n",
        "df = df.rename(columns = {'Low':'Bajo'})\n",
        "df = df.rename(columns = {'Vol.':'Volumen'})\n",
        "df = df.rename(columns = {'Change %':'CambioP'})\n",
        "df"
      ],
      "execution_count": null,
      "outputs": [
        {
          "output_type": "execute_result",
          "data": {
            "text/html": [
              "<div>\n",
              "<style scoped>\n",
              "    .dataframe tbody tr th:only-of-type {\n",
              "        vertical-align: middle;\n",
              "    }\n",
              "\n",
              "    .dataframe tbody tr th {\n",
              "        vertical-align: top;\n",
              "    }\n",
              "\n",
              "    .dataframe thead th {\n",
              "        text-align: right;\n",
              "    }\n",
              "</style>\n",
              "<table border=\"1\" class=\"dataframe\">\n",
              "  <thead>\n",
              "    <tr style=\"text-align: right;\">\n",
              "      <th></th>\n",
              "      <th>Fecha</th>\n",
              "      <th>Precio</th>\n",
              "      <th>Mañana</th>\n",
              "      <th>Alto</th>\n",
              "      <th>Bajo</th>\n",
              "      <th>Volumen</th>\n",
              "      <th>CambioP</th>\n",
              "    </tr>\n",
              "  </thead>\n",
              "  <tbody>\n",
              "    <tr>\n",
              "      <th>0</th>\n",
              "      <td>Aug 24, 2021</td>\n",
              "      <td>48,846.3</td>\n",
              "      <td>49,532.5</td>\n",
              "      <td>49,847.4</td>\n",
              "      <td>48,812.4</td>\n",
              "      <td>59.89K</td>\n",
              "      <td>-1.40%</td>\n",
              "    </tr>\n",
              "    <tr>\n",
              "      <th>1</th>\n",
              "      <td>Aug 23, 2021</td>\n",
              "      <td>49,539.7</td>\n",
              "      <td>49,255.4</td>\n",
              "      <td>50,498.8</td>\n",
              "      <td>49,038.6</td>\n",
              "      <td>75.37K</td>\n",
              "      <td>0.58%</td>\n",
              "    </tr>\n",
              "    <tr>\n",
              "      <th>2</th>\n",
              "      <td>Aug 22, 2021</td>\n",
              "      <td>49,254.5</td>\n",
              "      <td>48,870.4</td>\n",
              "      <td>49,480.3</td>\n",
              "      <td>48,151.0</td>\n",
              "      <td>49.32K</td>\n",
              "      <td>0.77%</td>\n",
              "    </tr>\n",
              "    <tr>\n",
              "      <th>3</th>\n",
              "      <td>Aug 21, 2021</td>\n",
              "      <td>48,875.8</td>\n",
              "      <td>49,330.0</td>\n",
              "      <td>49,719.1</td>\n",
              "      <td>48,293.5</td>\n",
              "      <td>18.20K</td>\n",
              "      <td>-0.91%</td>\n",
              "    </tr>\n",
              "    <tr>\n",
              "      <th>4</th>\n",
              "      <td>Aug 20, 2021</td>\n",
              "      <td>49,324.0</td>\n",
              "      <td>46,756.7</td>\n",
              "      <td>49,343.3</td>\n",
              "      <td>46,646.8</td>\n",
              "      <td>83.19K</td>\n",
              "      <td>5.49%</td>\n",
              "    </tr>\n",
              "    <tr>\n",
              "      <th>...</th>\n",
              "      <td>...</td>\n",
              "      <td>...</td>\n",
              "      <td>...</td>\n",
              "      <td>...</td>\n",
              "      <td>...</td>\n",
              "      <td>...</td>\n",
              "      <td>...</td>\n",
              "    </tr>\n",
              "    <tr>\n",
              "      <th>4051</th>\n",
              "      <td>Jul 22, 2010</td>\n",
              "      <td>0.1</td>\n",
              "      <td>0.1</td>\n",
              "      <td>0.1</td>\n",
              "      <td>0.1</td>\n",
              "      <td>2.16K</td>\n",
              "      <td>0.00%</td>\n",
              "    </tr>\n",
              "    <tr>\n",
              "      <th>4052</th>\n",
              "      <td>Jul 21, 2010</td>\n",
              "      <td>0.1</td>\n",
              "      <td>0.1</td>\n",
              "      <td>0.1</td>\n",
              "      <td>0.1</td>\n",
              "      <td>0.58K</td>\n",
              "      <td>0.00%</td>\n",
              "    </tr>\n",
              "    <tr>\n",
              "      <th>4053</th>\n",
              "      <td>Jul 20, 2010</td>\n",
              "      <td>0.1</td>\n",
              "      <td>0.1</td>\n",
              "      <td>0.1</td>\n",
              "      <td>0.1</td>\n",
              "      <td>0.26K</td>\n",
              "      <td>0.00%</td>\n",
              "    </tr>\n",
              "    <tr>\n",
              "      <th>4054</th>\n",
              "      <td>Jul 19, 2010</td>\n",
              "      <td>0.1</td>\n",
              "      <td>0.1</td>\n",
              "      <td>0.1</td>\n",
              "      <td>0.1</td>\n",
              "      <td>0.57K</td>\n",
              "      <td>0.00%</td>\n",
              "    </tr>\n",
              "    <tr>\n",
              "      <th>4055</th>\n",
              "      <td>Jul 18, 2010</td>\n",
              "      <td>0.1</td>\n",
              "      <td>0.0</td>\n",
              "      <td>0.1</td>\n",
              "      <td>0.1</td>\n",
              "      <td>0.08K</td>\n",
              "      <td>0.00%</td>\n",
              "    </tr>\n",
              "  </tbody>\n",
              "</table>\n",
              "<p>4056 rows × 7 columns</p>\n",
              "</div>"
            ],
            "text/plain": [
              "             Fecha    Precio    Mañana      Alto      Bajo Volumen CambioP\n",
              "0     Aug 24, 2021  48,846.3  49,532.5  49,847.4  48,812.4  59.89K  -1.40%\n",
              "1     Aug 23, 2021  49,539.7  49,255.4  50,498.8  49,038.6  75.37K   0.58%\n",
              "2     Aug 22, 2021  49,254.5  48,870.4  49,480.3  48,151.0  49.32K   0.77%\n",
              "3     Aug 21, 2021  48,875.8  49,330.0  49,719.1  48,293.5  18.20K  -0.91%\n",
              "4     Aug 20, 2021  49,324.0  46,756.7  49,343.3  46,646.8  83.19K   5.49%\n",
              "...            ...       ...       ...       ...       ...     ...     ...\n",
              "4051  Jul 22, 2010       0.1       0.1       0.1       0.1   2.16K   0.00%\n",
              "4052  Jul 21, 2010       0.1       0.1       0.1       0.1   0.58K   0.00%\n",
              "4053  Jul 20, 2010       0.1       0.1       0.1       0.1   0.26K   0.00%\n",
              "4054  Jul 19, 2010       0.1       0.1       0.1       0.1   0.57K   0.00%\n",
              "4055  Jul 18, 2010       0.1       0.0       0.1       0.1   0.08K   0.00%\n",
              "\n",
              "[4056 rows x 7 columns]"
            ]
          },
          "metadata": {},
          "execution_count": 88
        }
      ]
    },
    {
      "cell_type": "markdown",
      "metadata": {
        "id": "DKKo1IC5Jmub"
      },
      "source": [
        "**Agrupacion de datos por Precio Unico x Dia**"
      ]
    },
    {
      "cell_type": "markdown",
      "metadata": {
        "id": "a7EKIPquJtzN"
      },
      "source": [
        "Precios Unicos en la Base"
      ]
    },
    {
      "cell_type": "code",
      "metadata": {
        "id": "otnEzhCNJpVh",
        "colab": {
          "base_uri": "https://localhost:8080/"
        },
        "outputId": "dbffd5c5-a229-4b3a-b11b-d20fea3c0b65"
      },
      "source": [
        "list(df.Precio.unique())"
      ],
      "execution_count": null,
      "outputs": [
        {
          "output_type": "execute_result",
          "data": {
            "text/plain": [
              "['48,846.3',\n",
              " '49,539.7',\n",
              " '49,254.5',\n",
              " '48,875.8',\n",
              " '49,324.0',\n",
              " '46,755.9',\n",
              " '44,723.8',\n",
              " '44,691.6',\n",
              " '45,996.3',\n",
              " '46,991.3',\n",
              " '47,081.5',\n",
              " '47,809.1',\n",
              " '44,403.4',\n",
              " '45,564.3',\n",
              " '45,593.8',\n",
              " '46,284.3',\n",
              " '43,792.8',\n",
              " '44,614.2',\n",
              " '42,795.4',\n",
              " '40,867.2',\n",
              " '39,736.9',\n",
              " '38,130.3',\n",
              " '39,168.4',\n",
              " '39,878.3',\n",
              " '41,553.7',\n",
              " '42,203.4',\n",
              " '40,001.4',\n",
              " '40,003.2',\n",
              " '39,452.0',\n",
              " '37,276.6',\n",
              " '35,391.1',\n",
              " '33,824.8',\n",
              " '33,603.3',\n",
              " '32,298.9',\n",
              " '32,131.4',\n",
              " '29,793.8',\n",
              " '30,837.2',\n",
              " '31,785.4',\n",
              " '31,518.6',\n",
              " '31,394.0',\n",
              " '31,840.5',\n",
              " '32,820.7',\n",
              " '32,728.1',\n",
              " '33,113.0',\n",
              " '34,227.7',\n",
              " '33,510.6',\n",
              " '33,797.4',\n",
              " '32,866.3',\n",
              " '33,867.8',\n",
              " '34,225.6',\n",
              " '33,687.8',\n",
              " '35,298.2',\n",
              " '34,742.8',\n",
              " '33,813.4',\n",
              " '33,543.6',\n",
              " '35,026.9',\n",
              " '35,834.7',\n",
              " '34,475.9',\n",
              " '34,678.5',\n",
              " '32,243.4',\n",
              " '31,594.0',\n",
              " '34,665.8',\n",
              " '33,674.3',\n",
              " '32,496.4',\n",
              " '31,692.0',\n",
              " '35,595.8',\n",
              " '35,513.4',\n",
              " '35,749.4',\n",
              " '38,052.0',\n",
              " '38,336.0',\n",
              " '40,156.1',\n",
              " '40,529.4',\n",
              " '39,022.9',\n",
              " '35,467.5',\n",
              " '37,314.6',\n",
              " '36,649.4',\n",
              " '37,332.2',\n",
              " '33,382.9',\n",
              " '33,578.0',\n",
              " '35,815.4',\n",
              " '35,520.0',\n",
              " '36,851.3',\n",
              " '39,187.3',\n",
              " '37,555.8',\n",
              " '36,687.6',\n",
              " '37,298.6',\n",
              " '35,652.8',\n",
              " '34,584.6',\n",
              " '35,662.5',\n",
              " '38,417.3',\n",
              " '39,249.2',\n",
              " '38,378.3',\n",
              " '38,750.6',\n",
              " '34,679.7',\n",
              " '37,448.3',\n",
              " '37,297.4',\n",
              " '40,717.2',\n",
              " '36,720.5',\n",
              " '42,897.3',\n",
              " '43,541.3',\n",
              " '46,426.4',\n",
              " '46,708.8',\n",
              " '49,839.8',\n",
              " '49,704.6',\n",
              " '49,384.2',\n",
              " '56,695.7',\n",
              " '55,848.9',\n",
              " '58,238.3',\n",
              " '58,840.1',\n",
              " '57,337.2',\n",
              " '56,405.4',\n",
              " '57,441.3',\n",
              " '53,741.5',\n",
              " '57,169.8',\n",
              " '56,603.8',\n",
              " '57,807.1',\n",
              " '57,720.3',\n",
              " '53,560.8',\n",
              " '54,841.4',\n",
              " '55,036.5',\n",
              " '54,020.5',\n",
              " '48,963.6',\n",
              " '50,088.9',\n",
              " '51,143.6',\n",
              " '51,729.5',\n",
              " '53,820.2',\n",
              " '56,483.2',\n",
              " '55,646.1',\n",
              " '56,207.1',\n",
              " '60,041.9',\n",
              " '61,379.7',\n",
              " '63,216.0',\n",
              " '62,980.4',\n",
              " '63,540.9',\n",
              " '59,863.8',\n",
              " '59,978.7',\n",
              " '59,748.4',\n",
              " '58,118.7',\n",
              " '58,077.4',\n",
              " '55,948.7',\n",
              " '57,996.3',\n",
              " '58,993.4',\n",
              " '58,199.9',\n",
              " '57,059.9',\n",
              " '58,977.3',\n",
              " '58,718.3',\n",
              " '58,763.7',\n",
              " '58,771.3',\n",
              " '57,616.2',\n",
              " '55,765.2',\n",
              " '55,862.9',\n",
              " '55,036.1',\n",
              " '51,322.3',\n",
              " '52,325.4',\n",
              " '54,452.5',\n",
              " '54,158.3',\n",
              " '57,383.8',\n",
              " '58,093.4',\n",
              " '58,088.0',\n",
              " '57,656.0',\n",
              " '58,913.5',\n",
              " '56,889.7',\n",
              " '55,791.3',\n",
              " '59,113.7',\n",
              " '61,195.3',\n",
              " '57,265.1',\n",
              " '57,799.5',\n",
              " '55,851.9',\n",
              " '54,879.0',\n",
              " '52,311.0',\n",
              " '50,982.3',\n",
              " '48,855.6',\n",
              " '48,792.5',\n",
              " '48,428.0',\n",
              " '50,395.1',\n",
              " '48,424.2',\n",
              " '49,595.5',\n",
              " '45,164.0',\n",
              " '46,136.7',\n",
              " '46,345.6',\n",
              " '46,928.5',\n",
              " '49,697.5',\n",
              " '48,911.2',\n",
              " '54,111.8',\n",
              " '57,433.8',\n",
              " '55,923.7',\n",
              " '55,906.6',\n",
              " '51,582.2',\n",
              " '52,079.2',\n",
              " '49,169.7',\n",
              " '47,936.3',\n",
              " '48,643.4',\n",
              " '47,168.7',\n",
              " '47,371.7',\n",
              " '47,990.7',\n",
              " '44,836.0',\n",
              " '46,508.6',\n",
              " '46,395.7',\n",
              " '38,852.9',\n",
              " '39,256.6',\n",
              " '38,297.6',\n",
              " '36,982.1',\n",
              " '37,646.8',\n",
              " '35,485.2',\n",
              " '33,515.7',\n",
              " '33,108.1',\n",
              " '34,283.1',\n",
              " '34,301.8',\n",
              " '33,374.8',\n",
              " '30,404.0',\n",
              " '32,502.1',\n",
              " '32,252.3',\n",
              " '32,241.3',\n",
              " '32,088.9',\n",
              " '33,000.5',\n",
              " '30,842.1',\n",
              " '35,476.3',\n",
              " '36,002.9',\n",
              " '36,613.2',\n",
              " '35,839.6',\n",
              " '36,019.5',\n",
              " '36,845.8',\n",
              " '39,175.7',\n",
              " '37,382.2',\n",
              " '34,076.1',\n",
              " '35,544.3',\n",
              " '38,192.2',\n",
              " '40,151.9',\n",
              " '40,599.3',\n",
              " '39,460.2',\n",
              " '36,793.2',\n",
              " '33,991.5',\n",
              " '32,022.6',\n",
              " '32,958.9',\n",
              " '32,193.3',\n",
              " '29,359.9',\n",
              " '28,949.4',\n",
              " '28,868.7',\n",
              " '27,376.0',\n",
              " '27,057.8',\n",
              " '26,261.3',\n",
              " '26,454.4',\n",
              " '24,689.6',\n",
              " '23,736.5',\n",
              " '23,257.9',\n",
              " '23,823.2',\n",
              " '22,728.5',\n",
              " '23,474.9',\n",
              " '23,844.0',\n",
              " '23,127.9',\n",
              " '22,825.4',\n",
              " '21,352.2',\n",
              " '19,434.9',\n",
              " '19,273.8',\n",
              " '19,176.8',\n",
              " '18,808.9',\n",
              " '18,023.6',\n",
              " '18,247.2',\n",
              " '18,546.0',\n",
              " '18,326.6',\n",
              " '19,170.7',\n",
              " '19,379.9',\n",
              " '19,146.5',\n",
              " '18,658.1',\n",
              " '19,433.3',\n",
              " '19,218.8',\n",
              " '18,770.7',\n",
              " '19,698.1',\n",
              " '18,185.5',\n",
              " '17,730.7',\n",
              " '17,127.1',\n",
              " '17,162.0',\n",
              " '18,723.0',\n",
              " '19,152.6',\n",
              " '18,379.6',\n",
              " '18,412.9',\n",
              " '18,687.2',\n",
              " '18,675.2',\n",
              " '17,803.5',\n",
              " '17,774.6',\n",
              " '17,662.3',\n",
              " '16,715.8',\n",
              " '15,953.0',\n",
              " '16,071.0',\n",
              " '16,324.2',\n",
              " '16,294.7',\n",
              " '15,695.8',\n",
              " '15,303.6',\n",
              " '15,327.2',\n",
              " '15,483.7',\n",
              " '14,828.4',\n",
              " '15,577.9',\n",
              " '15,587.1',\n",
              " '14,145.6',\n",
              " '14,019.9',\n",
              " '13,561.4',\n",
              " '13,759.4',\n",
              " '13,797.3',\n",
              " '13,559.9',\n",
              " '13,457.2',\n",
              " '13,278.9',\n",
              " '13,657.8',\n",
              " '13,061.6',\n",
              " '13,032.2',\n",
              " '13,117.2',\n",
              " '12,934.1',\n",
              " '12,974.6',\n",
              " '12,808.7',\n",
              " '11,913.5',\n",
              " '11,753.4',\n",
              " '11,506.9',\n",
              " '11,362.1',\n",
              " '11,322.0',\n",
              " '11,503.0',\n",
              " '11,420.4',\n",
              " '11,423.8',\n",
              " '11,533.9',\n",
              " '11,371.0',\n",
              " '11,298.4',\n",
              " '11,054.2',\n",
              " '10,924.1',\n",
              " '10,670.9',\n",
              " '10,602.6',\n",
              " '10,789.5',\n",
              " '10,672.9',\n",
              " '10,544.2',\n",
              " '10,572.3',\n",
              " '10,620.5',\n",
              " '10,776.1',\n",
              " '10,840.9',\n",
              " '10,693.2',\n",
              " '10,776.2',\n",
              " '10,727.9',\n",
              " '10,688.8',\n",
              " '10,739.4',\n",
              " '10,237.3',\n",
              " '10,531.5',\n",
              " '10,416.8',\n",
              " '10,921.5',\n",
              " '11,081.8',\n",
              " '10,933.0',\n",
              " '10,941.3',\n",
              " '10,949.5',\n",
              " '10,785.3',\n",
              " '10,675.3',\n",
              " '10,326.0',\n",
              " '10,441.9',\n",
              " '10,390.2',\n",
              " '10,339.7',\n",
              " '10,224.6',\n",
              " '10,126.6',\n",
              " '10,376.9',\n",
              " '10,296.4',\n",
              " '10,092.2',\n",
              " '10,472.5',\n",
              " '10,168.8',\n",
              " '11,413.3',\n",
              " '11,914.9',\n",
              " '11,644.2',\n",
              " '11,702.0',\n",
              " '11,468.1',\n",
              " '11,527.4',\n",
              " '11,327.4',\n",
              " '11,462.3',\n",
              " '11,324.8',\n",
              " '11,753.5',\n",
              " '11,641.6',\n",
              " '11,661.3',\n",
              " '11,529.2',\n",
              " '11,856.9',\n",
              " '11,750.2',\n",
              " '11,947.6',\n",
              " '12,282.6',\n",
              " '11,899.0',\n",
              " '11,845.3',\n",
              " '11,750.8',\n",
              " '11,770.9',\n",
              " '11,557.2',\n",
              " '11,390.4',\n",
              " '11,889.2',\n",
              " '11,681.2',\n",
              " '11,764.3',\n",
              " '11,592.0',\n",
              " '11,757.1',\n",
              " '11,735.1',\n",
              " '11,184.7',\n",
              " '11,224.4',\n",
              " '11,066.8',\n",
              " '11,803.1',\n",
              " '11,333.4',\n",
              " '11,096.2',\n",
              " '11,105.9',\n",
              " '10,908.5',\n",
              " '11,022.8',\n",
              " '9,932.5',\n",
              " '9,704.1',\n",
              " '9,546.4',\n",
              " '9,599.6',\n",
              " '9,513.7',\n",
              " '9,387.3',\n",
              " '9,162.4',\n",
              " '9,208.0',\n",
              " '9,170.2',\n",
              " '9,155.8',\n",
              " '9,135.3',\n",
              " '9,198.7',\n",
              " '9,253.4',\n",
              " '9,243.6',\n",
              " '9,300.8',\n",
              " '9,233.3',\n",
              " '9,285.1',\n",
              " '9,235.7',\n",
              " '9,429.9',\n",
              " '9,256.0',\n",
              " '9,339.0',\n",
              " '9,081.0',\n",
              " '9,134.4',\n",
              " '9,067.1',\n",
              " '9,085.1',\n",
              " '9,229.9',\n",
              " '9,135.4',\n",
              " '9,185.4',\n",
              " '9,124.0',\n",
              " '9,008.3',\n",
              " '9,160.0',\n",
              " '9,247.5',\n",
              " '9,302.0',\n",
              " '9,624.6',\n",
              " '9,683.7',\n",
              " '9,296.4',\n",
              " '9,358.8',\n",
              " '9,314.0',\n",
              " '9,388.1',\n",
              " '9,464.6',\n",
              " '9,523.5',\n",
              " '9,425.4',\n",
              " '9,345.3',\n",
              " '9,471.3',\n",
              " '9,466.6',\n",
              " '9,283.2',\n",
              " '9,878.8',\n",
              " '9,768.8',\n",
              " '9,777.9',\n",
              " '9,742.6',\n",
              " '9,669.6',\n",
              " '9,631.2',\n",
              " '9,794.4',\n",
              " '9,667.2',\n",
              " '9,527.6',\n",
              " '10,189.3',\n",
              " '9,454.8',\n",
              " '9,692.5',\n",
              " '9,424.8',\n",
              " '9,572.2',\n",
              " '9,199.1',\n",
              " '8,842.5',\n",
              " '8,898.2',\n",
              " '8,728.2',\n",
              " '9,177.0',\n",
              " '9,169.7',\n",
              " '9,059.0',\n",
              " '9,512.3',\n",
              " '9,773.3',\n",
              " '9,730.7',\n",
              " '9,677.7',\n",
              " '9,379.5',\n",
              " '9,318.0',\n",
              " '9,778.4',\n",
              " '9,298.7',\n",
              " '8,813.8',\n",
              " '8,579.8',\n",
              " '8,738.8',\n",
              " '9,554.6',\n",
              " '9,806.2',\n",
              " '9,979.8',\n",
              " '9,151.4',\n",
              " '9,001.0',\n",
              " '8,874.7',\n",
              " '8,885.5',\n",
              " '8,966.3',\n",
              " '8,821.6',\n",
              " '8,629.0',\n",
              " '8,770.9',\n",
              " '7,746.9',\n",
              " '7,766.0',\n",
              " '7,678.9',\n",
              " '7,540.4',\n",
              " '7,503.8',\n",
              " '7,488.5',\n",
              " '7,112.9',\n",
              " '6,842.5',\n",
              " '6,833.5',\n",
              " '7,122.9',\n",
              " '7,230.8',\n",
              " '7,035.8',\n",
              " '7,085.6',\n",
              " '6,629.1',\n",
              " '6,850.9',\n",
              " '6,841.3',\n",
              " '6,917.6',\n",
              " '6,867.8',\n",
              " '6,863.1',\n",
              " '7,289.0',\n",
              " '7,361.2',\n",
              " '7,185.2',\n",
              " '7,332.3',\n",
              " '6,772.7',\n",
              " '6,857.4',\n",
              " '6,735.9',\n",
              " '6,800.5',\n",
              " '6,638.5',\n",
              " '6,412.5',\n",
              " '6,391.0',\n",
              " '5,890.4',\n",
              " '6,233.7',\n",
              " '6,373.4',\n",
              " '6,725.1',\n",
              " '6,678.9',\n",
              " '6,744.6',\n",
              " '6,468.9',\n",
              " '5,822.1',\n",
              " '6,186.2',\n",
              " '6,205.3',\n",
              " '6,172.0',\n",
              " '5,361.4',\n",
              " '5,261.1',\n",
              " '5,030.0',\n",
              " '5,366.3',\n",
              " '5,182.7',\n",
              " '5,584.3',\n",
              " '4,826.0',\n",
              " '7,935.1',\n",
              " '7,891.2',\n",
              " '7,933.0',\n",
              " '8,034.1',\n",
              " '8,887.8',\n",
              " '9,134.8',\n",
              " '9,060.3',\n",
              " '8,757.9',\n",
              " '8,761.4',\n",
              " '8,904.8',\n",
              " '8,540.0',\n",
              " '8,543.7',\n",
              " '8,697.5',\n",
              " '8,818.6',\n",
              " '8,800.3',\n",
              " '9,317.2',\n",
              " '9,662.7',\n",
              " '9,942.7',\n",
              " '9,655.7',\n",
              " '9,684.5',\n",
              " '9,602.4',\n",
              " '9,609.4',\n",
              " '10,158.4',\n",
              " '9,701.4',\n",
              " '9,932.3',\n",
              " '9,907.7',\n",
              " '10,333.0',\n",
              " '10,235.1',\n",
              " '10,317.7',\n",
              " '10,229.5',\n",
              " '9,854.1',\n",
              " '10,151.5',\n",
              " '9,895.5',\n",
              " '9,818.6',\n",
              " '9,772.0',\n",
              " '9,611.8',\n",
              " '9,193.9',\n",
              " '9,296.6',\n",
              " '9,334.9',\n",
              " '9,381.6',\n",
              " '9,349.1',\n",
              " '9,507.3',\n",
              " '9,298.9',\n",
              " '9,377.3',\n",
              " '8,866.6',\n",
              " '8,607.8',\n",
              " '8,341.6',\n",
              " '8,439.9',\n",
              " '8,405.1',\n",
              " '8,678.5',\n",
              " '8,732.6',\n",
              " '8,641.9',\n",
              " '8,706.2',\n",
              " '8,916.3',\n",
              " '8,913.1',\n",
              " '8,726.9',\n",
              " '8,818.3',\n",
              " '8,829.2',\n",
              " '8,111.4',\n",
              " '8,187.6',\n",
              " '8,024.1',\n",
              " '8,187.1',\n",
              " '7,842.4',\n",
              " '8,059.6',\n",
              " '8,155.7',\n",
              " '7,759.1',\n",
              " '7,372.5',\n",
              " '7,376.8',\n",
              " '7,343.1',\n",
              " '6,967.0',\n",
              " '7,199.8',\n",
              " '7,196.4',\n",
              " '7,261.8',\n",
              " '7,397.5',\n",
              " '7,321.5',\n",
              " '7,261.7',\n",
              " '7,210.9',\n",
              " '7,224.8',\n",
              " '7,268.3',\n",
              " '7,322.8',\n",
              " '7,495.8',\n",
              " '7,156.2',\n",
              " '7,165.5',\n",
              " '7,276.0',\n",
              " '6,613.3',\n",
              " '6,903.5',\n",
              " '7,128.5',\n",
              " '7,080.8',\n",
              " '7,255.2',\n",
              " '7,208.0',\n",
              " '7,235.7',\n",
              " '7,355.8',\n",
              " '7,524.4',\n",
              " '7,510.9',\n",
              " '7,530.8',\n",
              " '7,399.2',\n",
              " '7,204.4',\n",
              " '7,291.8',\n",
              " '7,298.2',\n",
              " '7,396.4',\n",
              " '7,546.6',\n",
              " '7,742.7',\n",
              " '7,426.7',\n",
              " '7,510.6',\n",
              " '7,162.8',\n",
              " '7,115.6',\n",
              " '6,924.7',\n",
              " '7,324.1',\n",
              " '7,272.5',\n",
              " '7,627.9',\n",
              " '8,099.3',\n",
              " '8,145.7',\n",
              " '8,208.4',\n",
              " '8,509.8',\n",
              " '8,497.3',\n",
              " '8,476.3',\n",
              " '8,661.2',\n",
              " '8,783.1',\n",
              " '8,812.6',\n",
              " '8,736.9',\n",
              " '9,036.8',\n",
              " '8,804.5',\n",
              " '8,778.2',\n",
              " '9,223.5',\n",
              " '9,338.9',\n",
              " '9,310.8',\n",
              " '9,396.4',\n",
              " '9,198.3',\n",
              " '9,300.6',\n",
              " '9,230.1',\n",
              " '9,152.6',\n",
              " '9,157.9',\n",
              " '9,411.3',\n",
              " '9,207.2',\n",
              " '9,529.6',\n",
              " '9,230.6',\n",
              " '8,658.3',\n",
              " '7,422.7',\n",
              " '7,477.0',\n",
              " '8,031.4',\n",
              " '8,208.2',\n",
              " '8,223.4',\n",
              " '7,957.3',\n",
              " '7,948.5',\n",
              " '8,073.3',\n",
              " '8,000.4',\n",
              " '8,167.2',\n",
              " '8,353.3',\n",
              " '8,281.5',\n",
              " '8,304.4',\n",
              " '8,267.8',\n",
              " '8,562.3',\n",
              " '8,566.7',\n",
              " '8,182.9',\n",
              " '8,198.6',\n",
              " '7,881.9',\n",
              " '8,127.3',\n",
              " '8,148.1',\n",
              " '8,226.9',\n",
              " '8,364.1',\n",
              " '8,302.7',\n",
              " '8,284.3',\n",
              " '8,049.1',\n",
              " '8,208.5',\n",
              " '8,184.9',\n",
              " '8,063.8',\n",
              " '8,432.4',\n",
              " '8,513.9',\n",
              " '9,702.2',\n",
              " '10,031.6',\n",
              " '9,993.0',\n",
              " '10,172.7',\n",
              " '10,250.5',\n",
              " '10,164.7',\n",
              " '10,195.7',\n",
              " '10,255.5',\n",
              " '10,311.5',\n",
              " '10,337.3',\n",
              " '10,342.1',\n",
              " '10,415.1',\n",
              " '10,162.5',\n",
              " '10,105.4',\n",
              " '10,309.0',\n",
              " '10,402.8',\n",
              " '10,461.1',\n",
              " '10,309.3',\n",
              " '10,566.9',\n",
              " '10,568.2',\n",
              " '10,612.3',\n",
              " '10,348.8',\n",
              " '9,729.3',\n",
              " '9,594.4',\n",
              " '9,585.4',\n",
              " '9,491.0',\n",
              " '9,729.4',\n",
              " '10,184.8',\n",
              " '10,371.8',\n",
              " '10,136.3',\n",
              " '10,131.0',\n",
              " '10,388.7',\n",
              " '10,105.0',\n",
              " '10,141.5',\n",
              " '10,752.6',\n",
              " '10,910.7',\n",
              " '10,312.7',\n",
              " '10,218.1',\n",
              " '10,335.6',\n",
              " '10,303.4',\n",
              " '10,049.4',\n",
              " '10,892.9',\n",
              " '11,394.2',\n",
              " '11,517.2',\n",
              " '11,314.5',\n",
              " '12,089.8',\n",
              " '12,191.6',\n",
              " '12,013.9',\n",
              " '11,480.9',\n",
              " '11,816.8',\n",
              " '10,934.6',\n",
              " '10,815.7',\n",
              " '10,520.1',\n",
              " '10,380.0',\n",
              " '10,082.0',\n",
              " '9,580.7',\n",
              " '9,580.9',\n",
              " '9,727.8',\n",
              " '9,492.1',\n",
              " '9,831.0',\n",
              " '9,945.3',\n",
              " '9,804.3',\n",
              " '9,888.7',\n",
              " '10,412.5',\n",
              " '10,714.4',\n",
              " '10,826.7',\n",
              " '10,571.5',\n",
              " '10,651.4',\n",
              " '9,723.2',\n",
              " '10,845.9',\n",
              " '10,200.1',\n",
              " '11,364.9',\n",
              " '11,762.1',\n",
              " '11,342.3',\n",
              " '12,110.6',\n",
              " '12,541.5',\n",
              " '12,252.6',\n",
              " '11,415.9',\n",
              " '11,268.0',\n",
              " '10,970.2',\n",
              " '11,163.1',\n",
              " '11,900.8',\n",
              " '10,835.9',\n",
              " '10,616.6',\n",
              " '10,818.6',\n",
              " '11,906.5',\n",
              " '12,409.1',\n",
              " '11,287.8',\n",
              " '13,063.8',\n",
              " '11,809.9',\n",
              " '11,046.4',\n",
              " '10,897.1',\n",
              " '10,721.7',\n",
              " '10,179.3',\n",
              " '9,517.0',\n",
              " '9,255.4',\n",
              " '9,080.6',\n",
              " '9,318.8',\n",
              " '8,962.5',\n",
              " '8,812.5',\n",
              " '8,656.1',\n",
              " '8,219.0',\n",
              " '8,133.1',\n",
              " '7,888.0',\n",
              " '7,987.8',\n",
              " '7,635.0',\n",
              " '7,901.4',\n",
              " '7,985.2',\n",
              " '7,784.9',\n",
              " '7,779.1',\n",
              " '7,685.5',\n",
              " '8,124.8',\n",
              " '8,728.6',\n",
              " '8,545.7',\n",
              " '8,558.3',\n",
              " '8,271.9',\n",
              " '8,647.8',\n",
              " '8,716.3',\n",
              " '8,760.1',\n",
              " '8,630.2',\n",
              " '8,027.4',\n",
              " '7,970.1',\n",
              " '7,852.1',\n",
              " '7,635.7',\n",
              " '7,930.3',\n",
              " '7,965.3',\n",
              " '8,157.2',\n",
              " '7,262.6',\n",
              " '7,359.5',\n",
              " '7,871.8',\n",
              " '8,164.6',\n",
              " '7,994.6',\n",
              " '7,806.0',\n",
              " '6,984.8',\n",
              " '7,190.3',\n",
              " '6,386.0',\n",
              " '6,191.5',\n",
              " '5,990.3',\n",
              " '5,849.5',\n",
              " '5,745.1',\n",
              " '5,774.9',\n",
              " '5,830.9',\n",
              " '5,766.8',\n",
              " '5,493.8',\n",
              " '5,384.2',\n",
              " '5,320.8',\n",
              " '5,235.0',\n",
              " '5,302.3',\n",
              " '5,265.9',\n",
              " '5,298.3',\n",
              " '5,209.1',\n",
              " '5,415.6',\n",
              " '5,511.6',\n",
              " '5,346.7',\n",
              " '5,243.5',\n",
              " '5,290.2',\n",
              " '5,241.0',\n",
              " '5,264.7',\n",
              " '5,208.3',\n",
              " '5,180.9',\n",
              " '5,032.3',\n",
              " '5,134.8',\n",
              " '5,051.8',\n",
              " '5,054.2',\n",
              " '5,022.6',\n",
              " '5,307.8',\n",
              " '5,158.4',\n",
              " '5,245.2',\n",
              " '5,173.6',\n",
              " '5,046.2',\n",
              " '5,010.2',\n",
              " '4,902.4',\n",
              " '4,968.7',\n",
              " '4,859.3',\n",
              " '4,145.1',\n",
              " '4,102.3',\n",
              " '4,111.8',\n",
              " '4,102.2',\n",
              " '4,025.6',\n",
              " '4,041.7',\n",
              " '3,942.8',\n",
              " '3,937.0',\n",
              " '3,994.7',\n",
              " '4,002.5',\n",
              " '3,990.4',\n",
              " '3,982.2',\n",
              " '4,041.2',\n",
              " '4,017.0',\n",
              " '3,990.2',\n",
              " '3,981.5',\n",
              " '4,006.4',\n",
              " '3,924.3',\n",
              " '3,879.0',\n",
              " '3,865.1',\n",
              " '3,886.0',\n",
              " '3,870.3',\n",
              " '3,915.2',\n",
              " '3,944.3',\n",
              " '3,865.9',\n",
              " '3,875.1',\n",
              " '3,863.0',\n",
              " '3,857.2',\n",
              " '3,715.9',\n",
              " '3,809.5',\n",
              " '3,823.1',\n",
              " '3,821.9',\n",
              " '3,816.6',\n",
              " '3,814.6',\n",
              " '3,810.3',\n",
              " '3,833.7',\n",
              " '3,755.2',\n",
              " '4,120.4',\n",
              " '3,965.2',\n",
              " '3,936.6',\n",
              " '3,972.4',\n",
              " '3,914.3',\n",
              " '3,896.0',\n",
              " '3,664.2',\n",
              " '3,616.8',\n",
              " '3,604.7',\n",
              " '3,592.6',\n",
              " '3,611.5',\n",
              " '3,632.0',\n",
              " '3,631.8',\n",
              " '3,679.0',\n",
              " '3,661.4',\n",
              " '3,661.7',\n",
              " '3,397.7',\n",
              " '3,404.3',\n",
              " '3,468.4',\n",
              " '3,462.8',\n",
              " '3,459.1',\n",
              " '3,502.5',\n",
              " '3,467.9',\n",
              " '3,437.2',\n",
              " '3,460.0',\n",
              " '3,414.8',\n",
              " '3,442.8',\n",
              " '3,555.6',\n",
              " '3,570.9',\n",
              " '3,572.0',\n",
              " '3,574.3',\n",
              " '3,561.5',\n",
              " '3,580.1',\n",
              " '3,536.7',\n",
              " '3,542.3',\n",
              " '3,677.8',\n",
              " '3,605.6',\n",
              " '3,626.4',\n",
              " '3,588.0',\n",
              " '3,571.3',\n",
              " '3,638.1',\n",
              " '3,490.2',\n",
              " '3,597.2',\n",
              " '3,616.5',\n",
              " '3,603.7',\n",
              " '3,978.0',\n",
              " '3,971.0',\n",
              " '3,985.9',\n",
              " '4,004.1',\n",
              " '3,785.4',\n",
              " '3,802.7',\n",
              " '3,780.1',\n",
              " '3,873.8',\n",
              " '3,809.4',\n",
              " '3,709.4',\n",
              " '3,815.0',\n",
              " '3,706.8',\n",
              " '3,861.6',\n",
              " '3,586.9',\n",
              " '3,793.7',\n",
              " '3,762.5',\n",
              " '4,026.1',\n",
              " '3,944.4',\n",
              " '3,964.4',\n",
              " '3,850.9',\n",
              " '4,076.0',\n",
              " '3,687.1',\n",
              " '3,668.0',\n",
              " '3,526.1',\n",
              " '3,247.9',\n",
              " '3,228.7',\n",
              " '3,247.8',\n",
              " '3,315.3',\n",
              " '3,466.1',\n",
              " '3,407.7',\n",
              " '3,460.5',\n",
              " '3,567.5',\n",
              " '3,430.4',\n",
              " '3,422.2',\n",
              " '3,508.6',\n",
              " '3,771.6',\n",
              " '3,958.5',\n",
              " '3,897.8',\n",
              " '4,160.4',\n",
              " '4,196.2',\n",
              " '4,039.7',\n",
              " '4,296.5',\n",
              " '4,265.4',\n",
              " '3,866.5',\n",
              " '3,837.0',\n",
              " ...]"
            ]
          },
          "metadata": {},
          "execution_count": 89
        }
      ]
    },
    {
      "cell_type": "markdown",
      "metadata": {
        "id": "htQSR6DNJ3Jd"
      },
      "source": [
        "Agrupacion de Precios de 0.1"
      ]
    },
    {
      "cell_type": "code",
      "metadata": {
        "id": "faEUfu1JKEgH",
        "colab": {
          "base_uri": "https://localhost:8080/",
          "height": 419
        },
        "outputId": "5fa3939b-83fc-4c13-e8d8-072a776f29e9"
      },
      "source": [
        "dfPrecio = df[df['Precio'] == '0.1']\n",
        "dfPrecio"
      ],
      "execution_count": null,
      "outputs": [
        {
          "output_type": "execute_result",
          "data": {
            "text/html": [
              "<div>\n",
              "<style scoped>\n",
              "    .dataframe tbody tr th:only-of-type {\n",
              "        vertical-align: middle;\n",
              "    }\n",
              "\n",
              "    .dataframe tbody tr th {\n",
              "        vertical-align: top;\n",
              "    }\n",
              "\n",
              "    .dataframe thead th {\n",
              "        text-align: right;\n",
              "    }\n",
              "</style>\n",
              "<table border=\"1\" class=\"dataframe\">\n",
              "  <thead>\n",
              "    <tr style=\"text-align: right;\">\n",
              "      <th></th>\n",
              "      <th>Fecha</th>\n",
              "      <th>Precio</th>\n",
              "      <th>Mañana</th>\n",
              "      <th>Alto</th>\n",
              "      <th>Bajo</th>\n",
              "      <th>Volumen</th>\n",
              "      <th>CambioP</th>\n",
              "    </tr>\n",
              "  </thead>\n",
              "  <tbody>\n",
              "    <tr>\n",
              "      <th>3956</th>\n",
              "      <td>Oct 25, 2010</td>\n",
              "      <td>0.1</td>\n",
              "      <td>0.1</td>\n",
              "      <td>0.2</td>\n",
              "      <td>0.1</td>\n",
              "      <td>30.30K</td>\n",
              "      <td>0.00%</td>\n",
              "    </tr>\n",
              "    <tr>\n",
              "      <th>3957</th>\n",
              "      <td>Oct 24, 2010</td>\n",
              "      <td>0.1</td>\n",
              "      <td>0.1</td>\n",
              "      <td>0.2</td>\n",
              "      <td>0.1</td>\n",
              "      <td>13.80K</td>\n",
              "      <td>0.00%</td>\n",
              "    </tr>\n",
              "    <tr>\n",
              "      <th>3958</th>\n",
              "      <td>Oct 23, 2010</td>\n",
              "      <td>0.1</td>\n",
              "      <td>0.1</td>\n",
              "      <td>0.1</td>\n",
              "      <td>0.1</td>\n",
              "      <td>4.42K</td>\n",
              "      <td>0.00%</td>\n",
              "    </tr>\n",
              "    <tr>\n",
              "      <th>3959</th>\n",
              "      <td>Oct 22, 2010</td>\n",
              "      <td>0.1</td>\n",
              "      <td>0.1</td>\n",
              "      <td>0.1</td>\n",
              "      <td>0.1</td>\n",
              "      <td>34.60K</td>\n",
              "      <td>0.00%</td>\n",
              "    </tr>\n",
              "    <tr>\n",
              "      <th>3960</th>\n",
              "      <td>Oct 21, 2010</td>\n",
              "      <td>0.1</td>\n",
              "      <td>0.1</td>\n",
              "      <td>0.1</td>\n",
              "      <td>0.1</td>\n",
              "      <td>44.87K</td>\n",
              "      <td>0.00%</td>\n",
              "    </tr>\n",
              "    <tr>\n",
              "      <th>...</th>\n",
              "      <td>...</td>\n",
              "      <td>...</td>\n",
              "      <td>...</td>\n",
              "      <td>...</td>\n",
              "      <td>...</td>\n",
              "      <td>...</td>\n",
              "      <td>...</td>\n",
              "    </tr>\n",
              "    <tr>\n",
              "      <th>4051</th>\n",
              "      <td>Jul 22, 2010</td>\n",
              "      <td>0.1</td>\n",
              "      <td>0.1</td>\n",
              "      <td>0.1</td>\n",
              "      <td>0.1</td>\n",
              "      <td>2.16K</td>\n",
              "      <td>0.00%</td>\n",
              "    </tr>\n",
              "    <tr>\n",
              "      <th>4052</th>\n",
              "      <td>Jul 21, 2010</td>\n",
              "      <td>0.1</td>\n",
              "      <td>0.1</td>\n",
              "      <td>0.1</td>\n",
              "      <td>0.1</td>\n",
              "      <td>0.58K</td>\n",
              "      <td>0.00%</td>\n",
              "    </tr>\n",
              "    <tr>\n",
              "      <th>4053</th>\n",
              "      <td>Jul 20, 2010</td>\n",
              "      <td>0.1</td>\n",
              "      <td>0.1</td>\n",
              "      <td>0.1</td>\n",
              "      <td>0.1</td>\n",
              "      <td>0.26K</td>\n",
              "      <td>0.00%</td>\n",
              "    </tr>\n",
              "    <tr>\n",
              "      <th>4054</th>\n",
              "      <td>Jul 19, 2010</td>\n",
              "      <td>0.1</td>\n",
              "      <td>0.1</td>\n",
              "      <td>0.1</td>\n",
              "      <td>0.1</td>\n",
              "      <td>0.57K</td>\n",
              "      <td>0.00%</td>\n",
              "    </tr>\n",
              "    <tr>\n",
              "      <th>4055</th>\n",
              "      <td>Jul 18, 2010</td>\n",
              "      <td>0.1</td>\n",
              "      <td>0.0</td>\n",
              "      <td>0.1</td>\n",
              "      <td>0.1</td>\n",
              "      <td>0.08K</td>\n",
              "      <td>0.00%</td>\n",
              "    </tr>\n",
              "  </tbody>\n",
              "</table>\n",
              "<p>100 rows × 7 columns</p>\n",
              "</div>"
            ],
            "text/plain": [
              "             Fecha Precio Mañana Alto Bajo Volumen CambioP\n",
              "3956  Oct 25, 2010    0.1    0.1  0.2  0.1  30.30K   0.00%\n",
              "3957  Oct 24, 2010    0.1    0.1  0.2  0.1  13.80K   0.00%\n",
              "3958  Oct 23, 2010    0.1    0.1  0.1  0.1   4.42K   0.00%\n",
              "3959  Oct 22, 2010    0.1    0.1  0.1  0.1  34.60K   0.00%\n",
              "3960  Oct 21, 2010    0.1    0.1  0.1  0.1  44.87K   0.00%\n",
              "...            ...    ...    ...  ...  ...     ...     ...\n",
              "4051  Jul 22, 2010    0.1    0.1  0.1  0.1   2.16K   0.00%\n",
              "4052  Jul 21, 2010    0.1    0.1  0.1  0.1   0.58K   0.00%\n",
              "4053  Jul 20, 2010    0.1    0.1  0.1  0.1   0.26K   0.00%\n",
              "4054  Jul 19, 2010    0.1    0.1  0.1  0.1   0.57K   0.00%\n",
              "4055  Jul 18, 2010    0.1    0.0  0.1  0.1   0.08K   0.00%\n",
              "\n",
              "[100 rows x 7 columns]"
            ]
          },
          "metadata": {},
          "execution_count": 90
        }
      ]
    },
    {
      "cell_type": "markdown",
      "metadata": {
        "id": "_XQ6M0zVKOM0"
      },
      "source": [
        "Agrupacion de Precios de 1 en la Mañana"
      ]
    },
    {
      "cell_type": "code",
      "metadata": {
        "id": "QwnCuLdlKTxG",
        "colab": {
          "base_uri": "https://localhost:8080/",
          "height": 359
        },
        "outputId": "e19a3109-69e8-4f02-af24-28e549004d9d"
      },
      "source": [
        "dfMañana = df[df['Mañana'] == '1.0']\n",
        "dfMañana"
      ],
      "execution_count": null,
      "outputs": [
        {
          "output_type": "execute_result",
          "data": {
            "text/html": [
              "<div>\n",
              "<style scoped>\n",
              "    .dataframe tbody tr th:only-of-type {\n",
              "        vertical-align: middle;\n",
              "    }\n",
              "\n",
              "    .dataframe tbody tr th {\n",
              "        vertical-align: top;\n",
              "    }\n",
              "\n",
              "    .dataframe thead th {\n",
              "        text-align: right;\n",
              "    }\n",
              "</style>\n",
              "<table border=\"1\" class=\"dataframe\">\n",
              "  <thead>\n",
              "    <tr style=\"text-align: right;\">\n",
              "      <th></th>\n",
              "      <th>Fecha</th>\n",
              "      <th>Precio</th>\n",
              "      <th>Mañana</th>\n",
              "      <th>Alto</th>\n",
              "      <th>Bajo</th>\n",
              "      <th>Volumen</th>\n",
              "      <th>CambioP</th>\n",
              "    </tr>\n",
              "  </thead>\n",
              "  <tbody>\n",
              "    <tr>\n",
              "      <th>3782</th>\n",
              "      <td>Apr 17, 2011</td>\n",
              "      <td>1.1</td>\n",
              "      <td>1.0</td>\n",
              "      <td>1.1</td>\n",
              "      <td>1.0</td>\n",
              "      <td>24.23K</td>\n",
              "      <td>5.71%</td>\n",
              "    </tr>\n",
              "    <tr>\n",
              "      <th>3783</th>\n",
              "      <td>Apr 16, 2011</td>\n",
              "      <td>1.0</td>\n",
              "      <td>1.0</td>\n",
              "      <td>1.1</td>\n",
              "      <td>1.0</td>\n",
              "      <td>28.87K</td>\n",
              "      <td>6.07%</td>\n",
              "    </tr>\n",
              "    <tr>\n",
              "      <th>3784</th>\n",
              "      <td>Apr 15, 2011</td>\n",
              "      <td>1.0</td>\n",
              "      <td>1.0</td>\n",
              "      <td>1.1</td>\n",
              "      <td>0.9</td>\n",
              "      <td>50.31K</td>\n",
              "      <td>0.00%</td>\n",
              "    </tr>\n",
              "    <tr>\n",
              "      <th>3831</th>\n",
              "      <td>Feb 27, 2011</td>\n",
              "      <td>0.9</td>\n",
              "      <td>1.0</td>\n",
              "      <td>1.0</td>\n",
              "      <td>0.9</td>\n",
              "      <td>23.27K</td>\n",
              "      <td>-7.10%</td>\n",
              "    </tr>\n",
              "    <tr>\n",
              "      <th>3833</th>\n",
              "      <td>Feb 25, 2011</td>\n",
              "      <td>0.9</td>\n",
              "      <td>1.0</td>\n",
              "      <td>1.0</td>\n",
              "      <td>0.9</td>\n",
              "      <td>4.46K</td>\n",
              "      <td>-8.65%</td>\n",
              "    </tr>\n",
              "    <tr>\n",
              "      <th>3840</th>\n",
              "      <td>Feb 18, 2011</td>\n",
              "      <td>0.9</td>\n",
              "      <td>1.0</td>\n",
              "      <td>1.0</td>\n",
              "      <td>0.8</td>\n",
              "      <td>36.95K</td>\n",
              "      <td>-13.57%</td>\n",
              "    </tr>\n",
              "    <tr>\n",
              "      <th>3841</th>\n",
              "      <td>Feb 17, 2011</td>\n",
              "      <td>1.0</td>\n",
              "      <td>1.0</td>\n",
              "      <td>1.0</td>\n",
              "      <td>1.0</td>\n",
              "      <td>4.01K</td>\n",
              "      <td>0.00%</td>\n",
              "    </tr>\n",
              "    <tr>\n",
              "      <th>3842</th>\n",
              "      <td>Feb 16, 2011</td>\n",
              "      <td>1.0</td>\n",
              "      <td>1.0</td>\n",
              "      <td>1.0</td>\n",
              "      <td>1.0</td>\n",
              "      <td>7.19K</td>\n",
              "      <td>0.00%</td>\n",
              "    </tr>\n",
              "    <tr>\n",
              "      <th>3844</th>\n",
              "      <td>Feb 14, 2011</td>\n",
              "      <td>1.1</td>\n",
              "      <td>1.0</td>\n",
              "      <td>1.1</td>\n",
              "      <td>1.0</td>\n",
              "      <td>7.10K</td>\n",
              "      <td>0.00%</td>\n",
              "    </tr>\n",
              "    <tr>\n",
              "      <th>3847</th>\n",
              "      <td>Feb 11, 2011</td>\n",
              "      <td>1.1</td>\n",
              "      <td>1.0</td>\n",
              "      <td>1.1</td>\n",
              "      <td>0.9</td>\n",
              "      <td>13.30K</td>\n",
              "      <td>9.15%</td>\n",
              "    </tr>\n",
              "  </tbody>\n",
              "</table>\n",
              "</div>"
            ],
            "text/plain": [
              "             Fecha Precio Mañana Alto Bajo Volumen  CambioP\n",
              "3782  Apr 17, 2011    1.1    1.0  1.1  1.0  24.23K    5.71%\n",
              "3783  Apr 16, 2011    1.0    1.0  1.1  1.0  28.87K    6.07%\n",
              "3784  Apr 15, 2011    1.0    1.0  1.1  0.9  50.31K    0.00%\n",
              "3831  Feb 27, 2011    0.9    1.0  1.0  0.9  23.27K   -7.10%\n",
              "3833  Feb 25, 2011    0.9    1.0  1.0  0.9   4.46K   -8.65%\n",
              "3840  Feb 18, 2011    0.9    1.0  1.0  0.8  36.95K  -13.57%\n",
              "3841  Feb 17, 2011    1.0    1.0  1.0  1.0   4.01K    0.00%\n",
              "3842  Feb 16, 2011    1.0    1.0  1.0  1.0   7.19K    0.00%\n",
              "3844  Feb 14, 2011    1.1    1.0  1.1  1.0   7.10K    0.00%\n",
              "3847  Feb 11, 2011    1.1    1.0  1.1  0.9  13.30K    9.15%"
            ]
          },
          "metadata": {},
          "execution_count": 91
        }
      ]
    },
    {
      "cell_type": "markdown",
      "metadata": {
        "id": "4Komk9y0KeAT"
      },
      "source": [
        "Generacion de Archivos con los Datos Agrupados"
      ]
    },
    {
      "cell_type": "code",
      "metadata": {
        "id": "LIRH-6B2KdlQ"
      },
      "source": [
        "dfPrecio.to_csv('dfPrecio.csv', index=False)\n",
        "dfMañana.to_csv('dfMañana.csv', index=False)"
      ],
      "execution_count": null,
      "outputs": []
    },
    {
      "cell_type": "markdown",
      "metadata": {
        "id": "uIsoQcOS6IzK"
      },
      "source": [
        "## **Información estadística básica**"
      ]
    },
    {
      "cell_type": "code",
      "metadata": {
        "colab": {
          "base_uri": "https://localhost:8080/",
          "height": 173
        },
        "id": "Koi7yUYIoaJY",
        "outputId": "84fd0855-a33d-494a-a767-2438bda7dc03"
      },
      "source": [
        "df.describe()"
      ],
      "execution_count": null,
      "outputs": [
        {
          "output_type": "execute_result",
          "data": {
            "text/html": [
              "<div>\n",
              "<style scoped>\n",
              "    .dataframe tbody tr th:only-of-type {\n",
              "        vertical-align: middle;\n",
              "    }\n",
              "\n",
              "    .dataframe tbody tr th {\n",
              "        vertical-align: top;\n",
              "    }\n",
              "\n",
              "    .dataframe thead th {\n",
              "        text-align: right;\n",
              "    }\n",
              "</style>\n",
              "<table border=\"1\" class=\"dataframe\">\n",
              "  <thead>\n",
              "    <tr style=\"text-align: right;\">\n",
              "      <th></th>\n",
              "      <th>Fecha</th>\n",
              "      <th>Precio</th>\n",
              "      <th>Mañana</th>\n",
              "      <th>Alto</th>\n",
              "      <th>Bajo</th>\n",
              "      <th>Volumen</th>\n",
              "      <th>CambioP</th>\n",
              "    </tr>\n",
              "  </thead>\n",
              "  <tbody>\n",
              "    <tr>\n",
              "      <th>count</th>\n",
              "      <td>4056</td>\n",
              "      <td>4056</td>\n",
              "      <td>4056</td>\n",
              "      <td>4056</td>\n",
              "      <td>4056</td>\n",
              "      <td>4056</td>\n",
              "      <td>4056</td>\n",
              "    </tr>\n",
              "    <tr>\n",
              "      <th>unique</th>\n",
              "      <td>4056</td>\n",
              "      <td>3105</td>\n",
              "      <td>3098</td>\n",
              "      <td>3093</td>\n",
              "      <td>3099</td>\n",
              "      <td>3626</td>\n",
              "      <td>1461</td>\n",
              "    </tr>\n",
              "    <tr>\n",
              "      <th>top</th>\n",
              "      <td>Sep 03, 2016</td>\n",
              "      <td>0.1</td>\n",
              "      <td>0.1</td>\n",
              "      <td>0.1</td>\n",
              "      <td>0.1</td>\n",
              "      <td>-</td>\n",
              "      <td>0.00%</td>\n",
              "    </tr>\n",
              "    <tr>\n",
              "      <th>freq</th>\n",
              "      <td>1</td>\n",
              "      <td>100</td>\n",
              "      <td>100</td>\n",
              "      <td>97</td>\n",
              "      <td>101</td>\n",
              "      <td>6</td>\n",
              "      <td>425</td>\n",
              "    </tr>\n",
              "  </tbody>\n",
              "</table>\n",
              "</div>"
            ],
            "text/plain": [
              "               Fecha Precio Mañana  Alto  Bajo Volumen CambioP\n",
              "count           4056   4056   4056  4056  4056    4056    4056\n",
              "unique          4056   3105   3098  3093  3099    3626    1461\n",
              "top     Sep 03, 2016    0.1    0.1   0.1   0.1       -   0.00%\n",
              "freq               1    100    100    97   101       6     425"
            ]
          },
          "metadata": {},
          "execution_count": 93
        }
      ]
    },
    {
      "cell_type": "markdown",
      "metadata": {
        "id": "Fl9Gb8oC6aye"
      },
      "source": [
        "Librería necesaria e importación de datos"
      ]
    },
    {
      "cell_type": "code",
      "metadata": {
        "colab": {
          "base_uri": "https://localhost:8080/",
          "height": 408
        },
        "id": "eV9wreQn6q7D",
        "outputId": "ccecceb9-a0d1-4e46-99c8-422b0413639d"
      },
      "source": [
        "import pandas as pd\n",
        "df = pd.read_csv(\"/content/sample_data/Bitcoin Historical Data - In Rupees.csv\")\n",
        "df.head(3)"
      ],
      "execution_count": 2,
      "outputs": [
        {
          "output_type": "error",
          "ename": "FileNotFoundError",
          "evalue": "ignored",
          "traceback": [
            "\u001b[0;31m---------------------------------------------------------------------------\u001b[0m",
            "\u001b[0;31mFileNotFoundError\u001b[0m                         Traceback (most recent call last)",
            "\u001b[0;32m<ipython-input-2-d46641fc6a82>\u001b[0m in \u001b[0;36m<module>\u001b[0;34m()\u001b[0m\n\u001b[1;32m      1\u001b[0m \u001b[0;32mimport\u001b[0m \u001b[0mpandas\u001b[0m \u001b[0;32mas\u001b[0m \u001b[0mpd\u001b[0m\u001b[0;34m\u001b[0m\u001b[0;34m\u001b[0m\u001b[0m\n\u001b[0;32m----> 2\u001b[0;31m \u001b[0mdf\u001b[0m \u001b[0;34m=\u001b[0m \u001b[0mpd\u001b[0m\u001b[0;34m.\u001b[0m\u001b[0mread_csv\u001b[0m\u001b[0;34m(\u001b[0m\u001b[0;34m\"/content/sample_data/Bitcoin Historical Data - In Rupees.csv\"\u001b[0m\u001b[0;34m)\u001b[0m\u001b[0;34m\u001b[0m\u001b[0;34m\u001b[0m\u001b[0m\n\u001b[0m\u001b[1;32m      3\u001b[0m \u001b[0mdf\u001b[0m\u001b[0;34m.\u001b[0m\u001b[0mhead\u001b[0m\u001b[0;34m(\u001b[0m\u001b[0;36m3\u001b[0m\u001b[0;34m)\u001b[0m\u001b[0;34m\u001b[0m\u001b[0;34m\u001b[0m\u001b[0m\n",
            "\u001b[0;32m/usr/local/lib/python3.7/dist-packages/pandas/io/parsers.py\u001b[0m in \u001b[0;36mread_csv\u001b[0;34m(filepath_or_buffer, sep, delimiter, header, names, index_col, usecols, squeeze, prefix, mangle_dupe_cols, dtype, engine, converters, true_values, false_values, skipinitialspace, skiprows, skipfooter, nrows, na_values, keep_default_na, na_filter, verbose, skip_blank_lines, parse_dates, infer_datetime_format, keep_date_col, date_parser, dayfirst, cache_dates, iterator, chunksize, compression, thousands, decimal, lineterminator, quotechar, quoting, doublequote, escapechar, comment, encoding, dialect, error_bad_lines, warn_bad_lines, delim_whitespace, low_memory, memory_map, float_precision)\u001b[0m\n\u001b[1;32m    686\u001b[0m     )\n\u001b[1;32m    687\u001b[0m \u001b[0;34m\u001b[0m\u001b[0m\n\u001b[0;32m--> 688\u001b[0;31m     \u001b[0;32mreturn\u001b[0m \u001b[0m_read\u001b[0m\u001b[0;34m(\u001b[0m\u001b[0mfilepath_or_buffer\u001b[0m\u001b[0;34m,\u001b[0m \u001b[0mkwds\u001b[0m\u001b[0;34m)\u001b[0m\u001b[0;34m\u001b[0m\u001b[0;34m\u001b[0m\u001b[0m\n\u001b[0m\u001b[1;32m    689\u001b[0m \u001b[0;34m\u001b[0m\u001b[0m\n\u001b[1;32m    690\u001b[0m \u001b[0;34m\u001b[0m\u001b[0m\n",
            "\u001b[0;32m/usr/local/lib/python3.7/dist-packages/pandas/io/parsers.py\u001b[0m in \u001b[0;36m_read\u001b[0;34m(filepath_or_buffer, kwds)\u001b[0m\n\u001b[1;32m    452\u001b[0m \u001b[0;34m\u001b[0m\u001b[0m\n\u001b[1;32m    453\u001b[0m     \u001b[0;31m# Create the parser.\u001b[0m\u001b[0;34m\u001b[0m\u001b[0;34m\u001b[0m\u001b[0;34m\u001b[0m\u001b[0m\n\u001b[0;32m--> 454\u001b[0;31m     \u001b[0mparser\u001b[0m \u001b[0;34m=\u001b[0m \u001b[0mTextFileReader\u001b[0m\u001b[0;34m(\u001b[0m\u001b[0mfp_or_buf\u001b[0m\u001b[0;34m,\u001b[0m \u001b[0;34m**\u001b[0m\u001b[0mkwds\u001b[0m\u001b[0;34m)\u001b[0m\u001b[0;34m\u001b[0m\u001b[0;34m\u001b[0m\u001b[0m\n\u001b[0m\u001b[1;32m    455\u001b[0m \u001b[0;34m\u001b[0m\u001b[0m\n\u001b[1;32m    456\u001b[0m     \u001b[0;32mif\u001b[0m \u001b[0mchunksize\u001b[0m \u001b[0;32mor\u001b[0m \u001b[0miterator\u001b[0m\u001b[0;34m:\u001b[0m\u001b[0;34m\u001b[0m\u001b[0;34m\u001b[0m\u001b[0m\n",
            "\u001b[0;32m/usr/local/lib/python3.7/dist-packages/pandas/io/parsers.py\u001b[0m in \u001b[0;36m__init__\u001b[0;34m(self, f, engine, **kwds)\u001b[0m\n\u001b[1;32m    946\u001b[0m             \u001b[0mself\u001b[0m\u001b[0;34m.\u001b[0m\u001b[0moptions\u001b[0m\u001b[0;34m[\u001b[0m\u001b[0;34m\"has_index_names\"\u001b[0m\u001b[0;34m]\u001b[0m \u001b[0;34m=\u001b[0m \u001b[0mkwds\u001b[0m\u001b[0;34m[\u001b[0m\u001b[0;34m\"has_index_names\"\u001b[0m\u001b[0;34m]\u001b[0m\u001b[0;34m\u001b[0m\u001b[0;34m\u001b[0m\u001b[0m\n\u001b[1;32m    947\u001b[0m \u001b[0;34m\u001b[0m\u001b[0m\n\u001b[0;32m--> 948\u001b[0;31m         \u001b[0mself\u001b[0m\u001b[0;34m.\u001b[0m\u001b[0m_make_engine\u001b[0m\u001b[0;34m(\u001b[0m\u001b[0mself\u001b[0m\u001b[0;34m.\u001b[0m\u001b[0mengine\u001b[0m\u001b[0;34m)\u001b[0m\u001b[0;34m\u001b[0m\u001b[0;34m\u001b[0m\u001b[0m\n\u001b[0m\u001b[1;32m    949\u001b[0m \u001b[0;34m\u001b[0m\u001b[0m\n\u001b[1;32m    950\u001b[0m     \u001b[0;32mdef\u001b[0m \u001b[0mclose\u001b[0m\u001b[0;34m(\u001b[0m\u001b[0mself\u001b[0m\u001b[0;34m)\u001b[0m\u001b[0;34m:\u001b[0m\u001b[0;34m\u001b[0m\u001b[0;34m\u001b[0m\u001b[0m\n",
            "\u001b[0;32m/usr/local/lib/python3.7/dist-packages/pandas/io/parsers.py\u001b[0m in \u001b[0;36m_make_engine\u001b[0;34m(self, engine)\u001b[0m\n\u001b[1;32m   1178\u001b[0m     \u001b[0;32mdef\u001b[0m \u001b[0m_make_engine\u001b[0m\u001b[0;34m(\u001b[0m\u001b[0mself\u001b[0m\u001b[0;34m,\u001b[0m \u001b[0mengine\u001b[0m\u001b[0;34m=\u001b[0m\u001b[0;34m\"c\"\u001b[0m\u001b[0;34m)\u001b[0m\u001b[0;34m:\u001b[0m\u001b[0;34m\u001b[0m\u001b[0;34m\u001b[0m\u001b[0m\n\u001b[1;32m   1179\u001b[0m         \u001b[0;32mif\u001b[0m \u001b[0mengine\u001b[0m \u001b[0;34m==\u001b[0m \u001b[0;34m\"c\"\u001b[0m\u001b[0;34m:\u001b[0m\u001b[0;34m\u001b[0m\u001b[0;34m\u001b[0m\u001b[0m\n\u001b[0;32m-> 1180\u001b[0;31m             \u001b[0mself\u001b[0m\u001b[0;34m.\u001b[0m\u001b[0m_engine\u001b[0m \u001b[0;34m=\u001b[0m \u001b[0mCParserWrapper\u001b[0m\u001b[0;34m(\u001b[0m\u001b[0mself\u001b[0m\u001b[0;34m.\u001b[0m\u001b[0mf\u001b[0m\u001b[0;34m,\u001b[0m \u001b[0;34m**\u001b[0m\u001b[0mself\u001b[0m\u001b[0;34m.\u001b[0m\u001b[0moptions\u001b[0m\u001b[0;34m)\u001b[0m\u001b[0;34m\u001b[0m\u001b[0;34m\u001b[0m\u001b[0m\n\u001b[0m\u001b[1;32m   1181\u001b[0m         \u001b[0;32melse\u001b[0m\u001b[0;34m:\u001b[0m\u001b[0;34m\u001b[0m\u001b[0;34m\u001b[0m\u001b[0m\n\u001b[1;32m   1182\u001b[0m             \u001b[0;32mif\u001b[0m \u001b[0mengine\u001b[0m \u001b[0;34m==\u001b[0m \u001b[0;34m\"python\"\u001b[0m\u001b[0;34m:\u001b[0m\u001b[0;34m\u001b[0m\u001b[0;34m\u001b[0m\u001b[0m\n",
            "\u001b[0;32m/usr/local/lib/python3.7/dist-packages/pandas/io/parsers.py\u001b[0m in \u001b[0;36m__init__\u001b[0;34m(self, src, **kwds)\u001b[0m\n\u001b[1;32m   2008\u001b[0m         \u001b[0mkwds\u001b[0m\u001b[0;34m[\u001b[0m\u001b[0;34m\"usecols\"\u001b[0m\u001b[0;34m]\u001b[0m \u001b[0;34m=\u001b[0m \u001b[0mself\u001b[0m\u001b[0;34m.\u001b[0m\u001b[0musecols\u001b[0m\u001b[0;34m\u001b[0m\u001b[0;34m\u001b[0m\u001b[0m\n\u001b[1;32m   2009\u001b[0m \u001b[0;34m\u001b[0m\u001b[0m\n\u001b[0;32m-> 2010\u001b[0;31m         \u001b[0mself\u001b[0m\u001b[0;34m.\u001b[0m\u001b[0m_reader\u001b[0m \u001b[0;34m=\u001b[0m \u001b[0mparsers\u001b[0m\u001b[0;34m.\u001b[0m\u001b[0mTextReader\u001b[0m\u001b[0;34m(\u001b[0m\u001b[0msrc\u001b[0m\u001b[0;34m,\u001b[0m \u001b[0;34m**\u001b[0m\u001b[0mkwds\u001b[0m\u001b[0;34m)\u001b[0m\u001b[0;34m\u001b[0m\u001b[0;34m\u001b[0m\u001b[0m\n\u001b[0m\u001b[1;32m   2011\u001b[0m         \u001b[0mself\u001b[0m\u001b[0;34m.\u001b[0m\u001b[0munnamed_cols\u001b[0m \u001b[0;34m=\u001b[0m \u001b[0mself\u001b[0m\u001b[0;34m.\u001b[0m\u001b[0m_reader\u001b[0m\u001b[0;34m.\u001b[0m\u001b[0munnamed_cols\u001b[0m\u001b[0;34m\u001b[0m\u001b[0;34m\u001b[0m\u001b[0m\n\u001b[1;32m   2012\u001b[0m \u001b[0;34m\u001b[0m\u001b[0m\n",
            "\u001b[0;32mpandas/_libs/parsers.pyx\u001b[0m in \u001b[0;36mpandas._libs.parsers.TextReader.__cinit__\u001b[0;34m()\u001b[0m\n",
            "\u001b[0;32mpandas/_libs/parsers.pyx\u001b[0m in \u001b[0;36mpandas._libs.parsers.TextReader._setup_parser_source\u001b[0;34m()\u001b[0m\n",
            "\u001b[0;31mFileNotFoundError\u001b[0m: [Errno 2] No such file or directory: '/content/sample_data/Bitcoin Historical Data - In Rupees.csv'"
          ]
        }
      ]
    },
    {
      "cell_type": "markdown",
      "metadata": {
        "id": "1YaU3OuV7H3z"
      },
      "source": [
        "Acomodar los datos para usarlos correctamente"
      ]
    },
    {
      "cell_type": "code",
      "metadata": {
        "colab": {
          "base_uri": "https://localhost:8080/",
          "height": 142
        },
        "id": "iGY7mUZj7L_A",
        "outputId": "b39ce586-088c-447e-b938-44917bb7ecc8"
      },
      "source": [
        "#Fuente: https://www.kaggle.com/anseldsouza/bitcoin-price-prediction-using-lstm\n",
        "\n",
        "# Preparar los datos\n",
        "df[\"Price\"] = df[\"Price\"].replace(\",\", \"\", regex = True)\n",
        "df[\"Open\"] = df[\"Open\"].replace(\",\", \"\", regex = True)\n",
        "df[\"High\"] = df[\"High\"].replace(\",\", \"\", regex = True)\n",
        "df[\"Low\"] = df[\"Low\"].replace(\",\", \"\", regex = True)\n",
        "\n",
        "def value_to_float(x):\n",
        "    if type(x) == float or type(x) == int:\n",
        "        return x\n",
        "    if 'K' in x:\n",
        "        if len(x) > 1:\n",
        "            return float(x.replace('K', '')) * 1000\n",
        "        return 1000.0\n",
        "    if 'M' in x:\n",
        "        if len(x) > 1:\n",
        "            return float(x.replace('M', '')) * 1000000\n",
        "        return 1000000.0\n",
        "    if 'B' in x:\n",
        "        return float(x.replace('B', '')) * 1000000000\n",
        "    return 0.0\n",
        "df['Vol.'] = df['Vol.'].apply(value_to_float)\n",
        "\n",
        "df[\"Change %\"] = df[\"Change %\"].replace(\"%\", \"\", regex = True)\n",
        "\n",
        "# A flotantes\n",
        "df[\"Price\"] = pd.to_numeric(df[\"Price\"], downcast=\"float\")\n",
        "df[\"Open\"] = pd.to_numeric(df[\"Open\"], downcast=\"float\")\n",
        "df[\"High\"] = pd.to_numeric(df[\"High\"], downcast=\"float\")\n",
        "df[\"Low\"] = pd.to_numeric(df[\"Low\"], downcast=\"float\")\n",
        "df[\"Vol.\"] = pd.to_numeric(df[\"Vol.\"], downcast=\"float\")\n",
        "df[\"Change %\"] = pd.to_numeric(df[\"Change %\"], downcast=\"float\")\n",
        "\n",
        "df.head(3)"
      ],
      "execution_count": null,
      "outputs": [
        {
          "output_type": "execute_result",
          "data": {
            "text/html": [
              "<div>\n",
              "<style scoped>\n",
              "    .dataframe tbody tr th:only-of-type {\n",
              "        vertical-align: middle;\n",
              "    }\n",
              "\n",
              "    .dataframe tbody tr th {\n",
              "        vertical-align: top;\n",
              "    }\n",
              "\n",
              "    .dataframe thead th {\n",
              "        text-align: right;\n",
              "    }\n",
              "</style>\n",
              "<table border=\"1\" class=\"dataframe\">\n",
              "  <thead>\n",
              "    <tr style=\"text-align: right;\">\n",
              "      <th></th>\n",
              "      <th>Date</th>\n",
              "      <th>Price</th>\n",
              "      <th>Open</th>\n",
              "      <th>High</th>\n",
              "      <th>Low</th>\n",
              "      <th>Vol.</th>\n",
              "      <th>Change %</th>\n",
              "    </tr>\n",
              "  </thead>\n",
              "  <tbody>\n",
              "    <tr>\n",
              "      <th>0</th>\n",
              "      <td>Aug 24, 2021</td>\n",
              "      <td>48846.300781</td>\n",
              "      <td>49532.500000</td>\n",
              "      <td>49847.398438</td>\n",
              "      <td>48812.398438</td>\n",
              "      <td>59890.0</td>\n",
              "      <td>-1.40</td>\n",
              "    </tr>\n",
              "    <tr>\n",
              "      <th>1</th>\n",
              "      <td>Aug 23, 2021</td>\n",
              "      <td>49539.699219</td>\n",
              "      <td>49255.398438</td>\n",
              "      <td>50498.800781</td>\n",
              "      <td>49038.601562</td>\n",
              "      <td>75370.0</td>\n",
              "      <td>0.58</td>\n",
              "    </tr>\n",
              "    <tr>\n",
              "      <th>2</th>\n",
              "      <td>Aug 22, 2021</td>\n",
              "      <td>49254.500000</td>\n",
              "      <td>48870.398438</td>\n",
              "      <td>49480.300781</td>\n",
              "      <td>48151.000000</td>\n",
              "      <td>49320.0</td>\n",
              "      <td>0.77</td>\n",
              "    </tr>\n",
              "  </tbody>\n",
              "</table>\n",
              "</div>"
            ],
            "text/plain": [
              "           Date         Price          Open  ...           Low     Vol.  Change %\n",
              "0  Aug 24, 2021  48846.300781  49532.500000  ...  48812.398438  59890.0     -1.40\n",
              "1  Aug 23, 2021  49539.699219  49255.398438  ...  49038.601562  75370.0      0.58\n",
              "2  Aug 22, 2021  49254.500000  48870.398438  ...  48151.000000  49320.0      0.77\n",
              "\n",
              "[3 rows x 7 columns]"
            ]
          },
          "metadata": {},
          "execution_count": 95
        }
      ]
    },
    {
      "cell_type": "markdown",
      "metadata": {
        "id": "2izmxyOQ7onv"
      },
      "source": [
        "La base está lista"
      ]
    },
    {
      "cell_type": "markdown",
      "metadata": {
        "id": "akChE7vE7sRZ"
      },
      "source": [
        "- Promedio de las columnas"
      ]
    },
    {
      "cell_type": "code",
      "metadata": {
        "colab": {
          "base_uri": "https://localhost:8080/"
        },
        "id": "NIagL9xN7qij",
        "outputId": "284f7ddd-fdca-452c-9579-dd4ba46175f6"
      },
      "source": [
        "for i in range(1, len(df.columns)):\n",
        "  print(\"El promedio de los elementos de la columna \", df.columns[i], \" es \", df[df.columns[i]].mean())"
      ],
      "execution_count": null,
      "outputs": [
        {
          "output_type": "stream",
          "name": "stdout",
          "text": [
            "El promedio de los elementos de la columna  Price  es  5421.90185546875\n",
            "El promedio de los elementos de la columna  Open  es  5409.88330078125\n",
            "El promedio de los elementos de la columna  High  es  5575.44921875\n",
            "El promedio de los elementos de la columna  Low  es  5227.3056640625\n",
            "El promedio de los elementos de la columna  Vol.  es  292762.90625\n",
            "El promedio de los elementos de la columna  Change %  es  0.4939645528793335\n"
          ]
        }
      ]
    },
    {
      "cell_type": "markdown",
      "metadata": {
        "id": "Osoot_5F73Ta"
      },
      "source": [
        "Los promedios son importantes porque así nos podemos dar una idea general de cómo se ha comportado el bitcoin de 2010 a 2021."
      ]
    },
    {
      "cell_type": "markdown",
      "metadata": {
        "id": "dR-Pjifz8XNI"
      },
      "source": [
        "- Suma acumulada fila por fila"
      ]
    },
    {
      "cell_type": "code",
      "metadata": {
        "colab": {
          "base_uri": "https://localhost:8080/"
        },
        "id": "Th00XWfy8rl3",
        "outputId": "d3bfb9ad-4317-4841-d995-a17d4b02b18f"
      },
      "source": [
        "print(\"La suma acumulada del volumen es\\n\", df['Vol.'].cumsum())"
      ],
      "execution_count": null,
      "outputs": [
        {
          "output_type": "stream",
          "name": "stdout",
          "text": [
            "La suma acumulada del volumen es\n",
            " 0       5.989000e+04\n",
            "1       1.352600e+05\n",
            "2       1.845800e+05\n",
            "3       2.027800e+05\n",
            "4       2.859700e+05\n",
            "            ...     \n",
            "4051    1.187445e+09\n",
            "4052    1.187446e+09\n",
            "4053    1.187446e+09\n",
            "4054    1.187446e+09\n",
            "4055    1.187446e+09\n",
            "Name: Vol., Length: 4056, dtype: float32\n"
          ]
        }
      ]
    },
    {
      "cell_type": "markdown",
      "metadata": {
        "id": "O0KJvwM79I86"
      },
      "source": [
        "De las sumas acumuladas, esta es la que más es útil, ya que así podemos ver cómo crece el volumen del Bitcoin con cada día que pasa."
      ]
    },
    {
      "cell_type": "markdown",
      "metadata": {
        "id": "YV4qFhru9dt6"
      },
      "source": [
        "- Mínimo y máximo"
      ]
    },
    {
      "cell_type": "code",
      "metadata": {
        "colab": {
          "base_uri": "https://localhost:8080/"
        },
        "id": "1Grren8x89Xf",
        "outputId": "ad9ad201-84f5-4131-e9b9-2c301ddc056a"
      },
      "source": [
        "for i in range(1, len(df.columns)):\n",
        "  print(\"El mínimo de la columna \", df.columns[i], \" es \", df[df.columns[i]].min(), \" y el máximo es \", df[df.columns[i]].max())"
      ],
      "execution_count": null,
      "outputs": [
        {
          "output_type": "stream",
          "name": "stdout",
          "text": [
            "El mínimo de la columna  Price  es  0.10000000149011612  y el máximo es  63540.8984375\n",
            "El mínimo de la columna  Open  es  0.0  y el máximo es  63544.19921875\n",
            "El mínimo de la columna  High  es  0.10000000149011612  y el máximo es  64778.0\n",
            "El mínimo de la columna  Low  es  0.0  y el máximo es  62067.5\n",
            "El mínimo de la columna  Vol.  es  0.0  y el máximo es  20260000.0\n",
            "El mínimo de la columna  Change %  es  -57.209999084472656  y el máximo es  336.8399963378906\n"
          ]
        }
      ]
    },
    {
      "cell_type": "markdown",
      "metadata": {
        "id": "Lxk-9HdZ934Y"
      },
      "source": [
        "Saber los máximos y mínimos nos ayuda a ver cómo ha mejorado el bitcoin, o bien, el posible gran potencial que tiene."
      ]
    },
    {
      "cell_type": "markdown",
      "metadata": {
        "id": "s_aNwbdi-GPD"
      },
      "source": [
        "- Desviación estándar"
      ]
    },
    {
      "cell_type": "code",
      "metadata": {
        "colab": {
          "base_uri": "https://localhost:8080/"
        },
        "id": "sLO_pb-A-SOK",
        "outputId": "d7169f0a-2d61-44bd-f137-99d8f7860b4a"
      },
      "source": [
        "for i in range(1, len(df.columns)):\n",
        "  print(\"La desviación estándar de la columna\", df.columns[i], \"es\", df[df.columns[i]].std())"
      ],
      "execution_count": null,
      "outputs": [
        {
          "output_type": "stream",
          "name": "stdout",
          "text": [
            "La desviación estándar de la columna Price es 10816.8798828125\n",
            "La desviación estándar de la columna Open es 10795.7587890625\n",
            "La desviación estándar de la columna High es 11141.0888671875\n",
            "La desviación estándar de la columna Low es 10406.4599609375\n",
            "La desviación estándar de la columna Vol. es 983381.75\n",
            "La desviación estándar de la columna Change % es 7.739621162414551\n"
          ]
        }
      ]
    },
    {
      "cell_type": "markdown",
      "metadata": {
        "id": "ZOldExNT-zc_"
      },
      "source": [
        "Con la desviación estándar podemos saber más o menos cuánto varían los datos y saber qué tan estable es el bitcoin."
      ]
    },
    {
      "cell_type": "markdown",
      "metadata": {
        "id": "UKpArlfi_Jo1"
      },
      "source": [
        "- Correlación"
      ]
    },
    {
      "cell_type": "code",
      "metadata": {
        "colab": {
          "base_uri": "https://localhost:8080/",
          "height": 235
        },
        "id": "Rxh1HxXk_bQP",
        "outputId": "a6c6c64d-44fd-45ed-87e1-a087e37ac64a"
      },
      "source": [
        "df.corr()"
      ],
      "execution_count": null,
      "outputs": [
        {
          "output_type": "execute_result",
          "data": {
            "text/html": [
              "<div>\n",
              "<style scoped>\n",
              "    .dataframe tbody tr th:only-of-type {\n",
              "        vertical-align: middle;\n",
              "    }\n",
              "\n",
              "    .dataframe tbody tr th {\n",
              "        vertical-align: top;\n",
              "    }\n",
              "\n",
              "    .dataframe thead th {\n",
              "        text-align: right;\n",
              "    }\n",
              "</style>\n",
              "<table border=\"1\" class=\"dataframe\">\n",
              "  <thead>\n",
              "    <tr style=\"text-align: right;\">\n",
              "      <th></th>\n",
              "      <th>Price</th>\n",
              "      <th>Open</th>\n",
              "      <th>High</th>\n",
              "      <th>Low</th>\n",
              "      <th>Vol.</th>\n",
              "      <th>Change %</th>\n",
              "    </tr>\n",
              "  </thead>\n",
              "  <tbody>\n",
              "    <tr>\n",
              "      <th>Price</th>\n",
              "      <td>1.000000</td>\n",
              "      <td>0.998832</td>\n",
              "      <td>0.999497</td>\n",
              "      <td>0.999337</td>\n",
              "      <td>0.060510</td>\n",
              "      <td>-0.004513</td>\n",
              "    </tr>\n",
              "    <tr>\n",
              "      <th>Open</th>\n",
              "      <td>0.998832</td>\n",
              "      <td>1.000000</td>\n",
              "      <td>0.999483</td>\n",
              "      <td>0.999041</td>\n",
              "      <td>0.061104</td>\n",
              "      <td>-0.017551</td>\n",
              "    </tr>\n",
              "    <tr>\n",
              "      <th>High</th>\n",
              "      <td>0.999497</td>\n",
              "      <td>0.999483</td>\n",
              "      <td>1.000000</td>\n",
              "      <td>0.998949</td>\n",
              "      <td>0.060524</td>\n",
              "      <td>-0.010393</td>\n",
              "    </tr>\n",
              "    <tr>\n",
              "      <th>Low</th>\n",
              "      <td>0.999337</td>\n",
              "      <td>0.999041</td>\n",
              "      <td>0.998949</td>\n",
              "      <td>1.000000</td>\n",
              "      <td>0.060949</td>\n",
              "      <td>-0.009531</td>\n",
              "    </tr>\n",
              "    <tr>\n",
              "      <th>Vol.</th>\n",
              "      <td>0.060510</td>\n",
              "      <td>0.061104</td>\n",
              "      <td>0.060524</td>\n",
              "      <td>0.060949</td>\n",
              "      <td>1.000000</td>\n",
              "      <td>-0.009292</td>\n",
              "    </tr>\n",
              "    <tr>\n",
              "      <th>Change %</th>\n",
              "      <td>-0.004513</td>\n",
              "      <td>-0.017551</td>\n",
              "      <td>-0.010393</td>\n",
              "      <td>-0.009531</td>\n",
              "      <td>-0.009292</td>\n",
              "      <td>1.000000</td>\n",
              "    </tr>\n",
              "  </tbody>\n",
              "</table>\n",
              "</div>"
            ],
            "text/plain": [
              "             Price      Open      High       Low      Vol.  Change %\n",
              "Price     1.000000  0.998832  0.999497  0.999337  0.060510 -0.004513\n",
              "Open      0.998832  1.000000  0.999483  0.999041  0.061104 -0.017551\n",
              "High      0.999497  0.999483  1.000000  0.998949  0.060524 -0.010393\n",
              "Low       0.999337  0.999041  0.998949  1.000000  0.060949 -0.009531\n",
              "Vol.      0.060510  0.061104  0.060524  0.060949  1.000000 -0.009292\n",
              "Change % -0.004513 -0.017551 -0.010393 -0.009531 -0.009292  1.000000"
            ]
          },
          "metadata": {},
          "execution_count": 100
        }
      ]
    },
    {
      "cell_type": "markdown",
      "metadata": {
        "id": "ttApg98e_e-t"
      },
      "source": [
        "Y por último, la correlación. Con esto podemos saber cuáles variables están relacionadas con otras y en qué medida. Mientras más correlación haya, más relacionadas están las variables.\n",
        "\n",
        "En el siguiente mapa de correlación esto se aprecia mejor:"
      ]
    },
    {
      "cell_type": "code",
      "metadata": {
        "colab": {
          "base_uri": "https://localhost:8080/",
          "height": 648
        },
        "id": "WVjruGXL_1eX",
        "outputId": "beda8530-8004-4d41-abc5-101c337c31f2"
      },
      "source": [
        "import matplotlib.pyplot as plt\n",
        "import seaborn as sns\n",
        "fig, ax = plt.subplots(figsize = (10,10))\n",
        "sns.heatmap(df.corr(), annot= True, linewidths = 0.5, fmt = \".1f\", ax = ax)\n",
        "plt.xticks(rotation=90)\n",
        "plt.yticks(rotation=0)\n",
        "plt.title('Mapa de correlación')\n",
        "plt.show()"
      ],
      "execution_count": null,
      "outputs": [
        {
          "output_type": "display_data",
          "data": {
            "image/png": "[encoded data removed]",
            "text/plain": [
              "<Figure size 720x720 with 2 Axes>"
            ]
          },
          "metadata": {
            "needs_background": "light"
          }
        }
      ]
    },
    {
      "cell_type": "markdown",
      "metadata": {
        "id": "DqJbQ4r1GOpB"
      },
      "source": [
        "Como vemos, los precios se relacionan mucho entre sí, pero estos no se relacionan casi nada con el volumen o el cambio del porcentaje."
      ]
    },
    {
      "cell_type": "markdown",
      "metadata": {
        "id": "JphRro3DpFhV"
      },
      "source": [
        "##**Gráficas**"
      ]
    },
    {
      "cell_type": "code",
      "metadata": {
        "id": "-7KzWQaU-D3J"
      },
      "source": [
        "# Fecha\n",
        "a = len(df['Date'].head(55)) - 1\n",
        "f = []\n",
        "\n",
        "while (a >= 0):\n",
        "  f.append(df['Date'].head(55)[a])\n",
        "  a = a - 1\n",
        "fecha = f\n",
        "\n",
        "# Precio\n",
        "a = len(df['Price'].head(55)) - 1\n",
        "f = []\n",
        "\n",
        "while (a >= 0):\n",
        "  f.append(df['Price'].head(55)[a])\n",
        "  a = a - 1\n",
        "precio = f\n",
        "\n",
        "# Mayor\n",
        "a = len(df['High'].head(55)) - 1\n",
        "f = []\n",
        "\n",
        "while (a >= 0):\n",
        "  f.append(df['High'].head(55)[a])\n",
        "  a = a - 1\n",
        "mayor = f\n",
        "\n",
        "# Menor\n",
        "a = len(df['Low'].head(55)) - 1\n",
        "f = []\n",
        "\n",
        "while (a >= 0):\n",
        "  f.append(df['Low'].head(55)[a])\n",
        "  a = a - 1\n",
        "menor = f\n",
        "\n",
        "fig, ax = plt.subplots(figsize = (15,7))\n",
        "ax.plot(fecha, precio, color = 'tab:purple', label = \"Precio final\")\n",
        "ax.plot(fecha, menor, color = 'tab:green', label = \"Precio menor\")\n",
        "ax.plot(fecha, mayor, color = 'tab:red', label = \"Precio mayor\")\n",
        "plt.legend(loc = 'upper left', fontsize = 13)\n",
        "plt.ylabel(\"Precio del Bitcoin (USD)\\n\\n\", fontsize = 14)\n",
        "plt.xlabel(\"\\nFecha\", fontsize = 14)\n",
        "plt.title(\"Comparativa de precios bajo, alto y final del Bitcoin del 1 de Julio al 24 de Agosto del 2021\\n\", fontsize = 20)\n",
        "plt.xticks(rotation = 90) # Fuente de apoyo para esta línea: https://www.delftstack.com/es/howto/matplotlib/how-to-rotate-x-axis-tick-label-text-in-matplotlib/\n",
        "plt.show()"
      ],
      "execution_count": null,
      "outputs": []
    },
    {
      "cell_type": "markdown",
      "metadata": {
        "id": "SePD3sKI_s8z"
      },
      "source": [
        "![image.png](data:image/png;base64,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)"
      ]
    },
    {
      "cell_type": "code",
      "metadata": {
        "id": "VzMYqnjQBJcF"
      },
      "source": [
        "df[df['Price'] < 70000].sample(500).plot.scatter(x = 'Low', y = 'Price', figsize = (15, 7))\n",
        "plt.title(\"\\nDispersión 'Precio más bajo' VS 'Precio' del Bitcoin (2010 - 2021)\\n\", fontsize = 20)\n",
        "plt.xlabel(\"\\nPrecio menor (USD)\", fontsize = 13)\n",
        "plt.ylabel(\"Precio (USD)\\n\", fontsize = 13)"
      ],
      "execution_count": null,
      "outputs": []
    },
    {
      "cell_type": "markdown",
      "metadata": {
        "id": "JS481myvBV_m"
      },
      "source": [
        "![image.png](data:image/png;base64,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)"
      ]
    },
    {
      "cell_type": "markdown",
      "metadata": {
        "id": "qwnzZwc6BeeS"
      },
      "source": [
        "Como vemos en la gráfica de dispersión, el precio y el precio menor del Bitcoin (Price, Low) están muy relacionados. Dependiendo de cuánto sea el precio menor (Low), será el precio del Bitcoin (Price) cada día.\n",
        "\n",
        "(Se usaron 500 muestras para poder ver mejor la dispersión en los precios más altos)"
      ]
    },
    {
      "cell_type": "code",
      "metadata": {
        "colab": {
          "base_uri": "https://localhost:8080/",
          "height": 504
        },
        "id": "z-1-Ov3DpHqH",
        "outputId": "5bcda1b6-65c5-4007-94ac-3a104306809e"
      },
      "source": [
        "df.plot.scatter(x=\"Date\", y=\"Price\",figsize = (20, 10))"
      ],
      "execution_count": null,
      "outputs": [
        {
          "output_type": "execute_result",
          "data": {
            "text/plain": [
              "<matplotlib.axes._subplots.AxesSubplot at 0x7fe59a7f5950>"
            ]
          },
          "metadata": {},
          "execution_count": 106
        },
        {
          "output_type": "display_data",
          "data": {
            "image/png": "[encoded data removed]",
            "text/plain": [
              "<Figure size 1440x720 with 1 Axes>"
            ]
          },
          "metadata": {
            "needs_background": "light"
          }
        }
      ]
    },
    {
      "cell_type": "markdown",
      "metadata": {
        "id": "oJk26CBmrrgy"
      },
      "source": [
        "Se ve evidentemente que conforme se va acercando a la fecha actual el precio del bitcoin va subiendo y en este momento esta teniendo un repunte, con esto podemos decir que el objetivo secundario se cumple"
      ]
    },
    {
      "cell_type": "code",
      "metadata": {
        "colab": {
          "base_uri": "https://localhost:8080/",
          "height": 338
        },
        "id": "mohpvwnmtSZZ",
        "outputId": "ffa8411e-c04f-4e7a-aa0f-d11455d87338"
      },
      "source": [
        "df.Price.hist(figsize=(10,5))"
      ],
      "execution_count": null,
      "outputs": [
        {
          "output_type": "execute_result",
          "data": {
            "text/plain": [
              "<matplotlib.axes._subplots.AxesSubplot at 0x7fe597b89910>"
            ]
          },
          "metadata": {},
          "execution_count": 107
        },
        {
          "output_type": "display_data",
          "data": {
            "image/png": "[encoded data removed]",
            "text/plain": [
              "<Figure size 720x360 with 1 Axes>"
            ]
          },
          "metadata": {
            "needs_background": "light"
          }
        }
      ]
    },
    {
      "cell_type": "markdown",
      "metadata": {
        "id": "CbNHKob3tiMy"
      },
      "source": [
        "Podemos ver que el precio maximo alcanzado del bitcoin ronda entre los 2500 y 3000 dllrs"
      ]
    },
    {
      "cell_type": "markdown",
      "metadata": {
        "id": "3almDq4OABUH"
      },
      "source": [
        "Como vemos en la gráfica comparativa de los precios, como era de esperarse, el precio final del Bitcoin cada día está entre el precio menor y el mayor. También podemos ver que en algunas ocasiones el precio al final del día es casi igual al precio mayor o al menor.\n",
        "\n",
        "Además, los precios mayor y menor siempre parecen estar muy lejos uno del otro. Nunca están muy cerca de ser iguales (almenos del 1 de julio al 24 de agosto)"
      ]
    },
    {
      "cell_type": "markdown",
      "metadata": {
        "id": "uQ3aRBXXrDUv"
      },
      "source": [
        "# **Base de datos de Repuesto**\n",
        "\n",
        "**Titulo alternativo**"
      ]
    },
    {
      "cell_type": "markdown",
      "metadata": {
        "id": "Ro0mWl9-rtAf"
      },
      "source": [
        "# 1.- Base de Datos: Conjunto de datos de análisis y predicción de ataques cardíacos\n"
      ]
    },
    {
      "cell_type": "markdown",
      "metadata": {
        "id": "W_h2AJJQsoY7"
      },
      "source": [
        ">A) Heart Attack Analysis & Prediction Dataset\n",
        "\n",
        ">B)https://www.kaggle.com/rashikrahmanpritom/heart-attack-analysis-prediction-dataset?select=heart.csv\n"
      ]
    },
    {
      "cell_type": "markdown",
      "metadata": {
        "id": "u2hj05eis01e"
      },
      "source": [
        "# 2.- Introducción General"
      ]
    },
    {
      "cell_type": "markdown",
      "metadata": {
        "id": "4cBt_8j3s-HW"
      },
      "source": [
        ">Un ataque al corazón ocurre cuando el flujo de sangre al corazón se bloquea repentinamente. Sin la sangre que entra, el corazón no puede obtener oxígeno. \n",
        "\n",
        ">Si no se trata rápidamente, el músculo cardíaco comienza a morir. Pero si recibe un tratamiento rápido, es posible que pueda prevenir o limitar el daño al músculo cardíaco.\n",
        "\n",
        ">La causa más común de los ataques cardíacos es la enfermedad de las arterias coronarias. En esta, hay una acumulación de colesterol y otro material, llamado placa, en las paredes internas o arterias. A esto se le llama arterioesclerosis. Puede acumularse durante años. Eventualmente, un área de la placa puede romperse, formándose un coágulo de sangre alrededor de la placa y bloquear la arteria."
      ]
    },
    {
      "cell_type": "markdown",
      "metadata": {
        "id": "yqFQDWR2yiC4"
      },
      "source": [
        "# 3.- Descripción de los datos"
      ]
    },
    {
      "cell_type": "markdown",
      "metadata": {
        "id": "hf3nFeowyn_b"
      },
      "source": [
        ">A) En la base de datos podemos apreciar un conjunto de informacion de pacientes que tuvieron un ataque al corazon, sus caracteristicas y signos vitales.\n",
        "\n",
        ">B)Se trata de una base de datos con catorce columnas, las cuales son las siguientes:\n",
        "1.   **age** <- Edad del paciente. Tipo de dato: int\n",
        "2.   **sex** <- Sexo del paciente. Tipo de dato: int\n",
        "3.   **cp** <- Tipo de dolor de pecho. Tipo de dato: int \n",
        "4.   **trtbps** <- Presión arterial en reposo. Tipo de dato: int\n",
        "5.   **chol** <- Colesterol del paciente. Tipo de dato: int\n",
        "6.   **fbs** <- Azucar en la sangre. Tipo de dato: int\n",
        "7.   **restecg** <- Resultados electrocardiográficos en reposo. Tipo de dato: int\n",
        "8.   **thalachh** <- Frecuencia cardíaca máxima alcanzada. Tipo de dato: int\n",
        "9.   **exng** <- Angina inducida por ejercicio. Tipo de dato: int\n",
        "10.   **oldpeak** <- Pico anterior. Tipo de dato: float\n",
        "11.   **slp** <- Pendiente. Tipo de dato: int \n",
        "12.   **caa** <- Número de buques principales. Tipo de dato: int\n",
        "13.   **thall** <- Tasa de Thal. Tipo de dato: int\n",
        "14.   **output** <- Variable Objetivo. Tipo de dato: int\n",
        "\n",
        ">Tamaño de la base: 14 columnas y 304 filas\n"
      ]
    },
    {
      "cell_type": "markdown",
      "metadata": {
        "id": "ZJIq61bi21Ui"
      },
      "source": [
        "# 4.- Justificación del uso de datos"
      ]
    },
    {
      "cell_type": "markdown",
      "metadata": {
        "id": "8yEf4RTD2-Xh"
      },
      "source": [
        ">A) El tema a tratar es de suma importancia ya que estos datos nos pueden brindar información importante acerca de nuestra salud respecto a los ataques al corazón.\n",
        "\n",
        ">B) Ser mas conscientes sobre las posibles sintomas previos a un ataque y que tan expuestos estamos."
      ]
    },
    {
      "cell_type": "markdown",
      "metadata": {
        "id": "omAf4EvS7yW5"
      },
      "source": [
        "# 5.- Objetivo Principal"
      ]
    },
    {
      "cell_type": "markdown",
      "metadata": {
        "id": "SEiZ-5rc72A1"
      },
      "source": [
        ">A) El objetivo principal es identificar cuál es el perfil del individuo más propenso de tener un ataque al corazón."
      ]
    },
    {
      "cell_type": "markdown",
      "metadata": {
        "id": "ebBqwEP99AWY"
      },
      "source": [
        "# 6.- Preguntas de Interés "
      ]
    },
    {
      "cell_type": "markdown",
      "metadata": {
        "id": "3UI05vqv9KTW"
      },
      "source": [
        "\n",
        "\n",
        "1.   ¿Los hombres son más propensos a tener un ataque al corazón?\n",
        "2.   ¿El aumento de edad está relacionada con los atques al corazón? \n",
        "\n"
      ]
    },
    {
      "cell_type": "markdown",
      "metadata": {
        "id": "zOywrE2uKzS-"
      },
      "source": [
        "# 7.- Parte de la Programación "
      ]
    },
    {
      "cell_type": "code",
      "metadata": {
        "id": "PCYsR4jGLjJD"
      },
      "source": [
        "import pandas as pd\n",
        "import numpy as np\n",
        "import json"
      ],
      "execution_count": null,
      "outputs": []
    },
    {
      "cell_type": "markdown",
      "metadata": {
        "id": "ss1URCKHL5nH"
      },
      "source": [
        "**Visualizacion de Datos**"
      ]
    },
    {
      "cell_type": "code",
      "metadata": {
        "id": "kHOodnoqAyJN"
      },
      "source": [
        "df2 = pd.read_csv(\"/content/sample_data/heart.csv\")\n"
      ],
      "execution_count": null,
      "outputs": []
    },
    {
      "cell_type": "markdown",
      "metadata": {
        "id": "-fW7LvY3MRDh"
      },
      "source": [
        "Descripcion de las columnas"
      ]
    },
    {
      "cell_type": "code",
      "metadata": {
        "id": "i8FPgFhKMUFe",
        "colab": {
          "base_uri": "https://localhost:8080/"
        },
        "outputId": "71c682d5-f26b-44fc-a411-c8590156f46c"
      },
      "source": [
        "df2.columns"
      ],
      "execution_count": null,
      "outputs": [
        {
          "output_type": "execute_result",
          "data": {
            "text/plain": [
              "Index(['age', 'sex', 'cp', 'trtbps', 'chol', 'fbs', 'restecg', 'thalachh',\n",
              "       'exng', 'oldpeak', 'slp', 'caa', 'thall', 'output'],\n",
              "      dtype='object')"
            ]
          },
          "metadata": {},
          "execution_count": 13
        }
      ]
    },
    {
      "cell_type": "code",
      "metadata": {
        "id": "4EhmbeqrMXH3",
        "colab": {
          "base_uri": "https://localhost:8080/"
        },
        "outputId": "e2cd5e65-5611-4e52-c2aa-b8c51bfacd10"
      },
      "source": [
        "df2.dtypes"
      ],
      "execution_count": null,
      "outputs": [
        {
          "output_type": "execute_result",
          "data": {
            "text/plain": [
              "age           int64\n",
              "sex           int64\n",
              "cp            int64\n",
              "trtbps        int64\n",
              "chol          int64\n",
              "fbs           int64\n",
              "restecg       int64\n",
              "thalachh      int64\n",
              "exng          int64\n",
              "oldpeak     float64\n",
              "slp           int64\n",
              "caa           int64\n",
              "thall         int64\n",
              "output        int64\n",
              "dtype: object"
            ]
          },
          "metadata": {},
          "execution_count": 14
        }
      ]
    },
    {
      "cell_type": "code",
      "metadata": {
        "id": "Ht9TZD8aMi5f",
        "colab": {
          "base_uri": "https://localhost:8080/"
        },
        "outputId": "b39612e6-c91b-48fa-fb46-76af397d86c2"
      },
      "source": [
        "df2.isnull().sum()"
      ],
      "execution_count": null,
      "outputs": [
        {
          "output_type": "execute_result",
          "data": {
            "text/plain": [
              "age         0\n",
              "sex         0\n",
              "cp          0\n",
              "trtbps      0\n",
              "chol        0\n",
              "fbs         0\n",
              "restecg     0\n",
              "thalachh    0\n",
              "exng        0\n",
              "oldpeak     0\n",
              "slp         0\n",
              "caa         0\n",
              "thall       0\n",
              "output      0\n",
              "dtype: int64"
            ]
          },
          "metadata": {},
          "execution_count": 15
        }
      ]
    },
    {
      "cell_type": "code",
      "metadata": {
        "id": "w7SLhPSbMnLA",
        "colab": {
          "base_uri": "https://localhost:8080/",
          "height": 179
        },
        "outputId": "992085d2-e6b7-4967-ab8e-c5bb87245efa"
      },
      "source": [
        "df2.rename(columns = {'age':'Edad', 'sex':\"Sexo\", 'cp':'Dolor_pecho', 'trtbps':'Presión_reposo', 'chol':'Colesterol', 'fbs':'Azúcar_ayunas',\n",
        "                      'restecg':'Resultado_electro_reposo', 'thalachh':'Max_frecuencia_cardíaca', 'exng':'Angina_por_ejercicio', 'oldpeak':'Pico_anterior',\n",
        "                      'slp':'Pendiente', 'caa':'Número_vasos', 'thall':'Frecuencia cardíaca', 'output':'Paro'}, inplace = True)\n",
        "df2.head(3)"
      ],
      "execution_count": null,
      "outputs": [
        {
          "output_type": "execute_result",
          "data": {
            "text/html": [
              "<div>\n",
              "<style scoped>\n",
              "    .dataframe tbody tr th:only-of-type {\n",
              "        vertical-align: middle;\n",
              "    }\n",
              "\n",
              "    .dataframe tbody tr th {\n",
              "        vertical-align: top;\n",
              "    }\n",
              "\n",
              "    .dataframe thead th {\n",
              "        text-align: right;\n",
              "    }\n",
              "</style>\n",
              "<table border=\"1\" class=\"dataframe\">\n",
              "  <thead>\n",
              "    <tr style=\"text-align: right;\">\n",
              "      <th></th>\n",
              "      <th>Edad</th>\n",
              "      <th>Sexo</th>\n",
              "      <th>Dolor_pecho</th>\n",
              "      <th>Presión_reposo</th>\n",
              "      <th>Colesterol</th>\n",
              "      <th>Azúcar_ayunas</th>\n",
              "      <th>Resultado_electro_reposo</th>\n",
              "      <th>Max_frecuencia_cardíaca</th>\n",
              "      <th>Angina_por_ejercicio</th>\n",
              "      <th>Pico_anterior</th>\n",
              "      <th>Pendiente</th>\n",
              "      <th>Número_vasos</th>\n",
              "      <th>Frecuencia cardíaca</th>\n",
              "      <th>Paro</th>\n",
              "    </tr>\n",
              "  </thead>\n",
              "  <tbody>\n",
              "    <tr>\n",
              "      <th>0</th>\n",
              "      <td>63</td>\n",
              "      <td>1</td>\n",
              "      <td>3</td>\n",
              "      <td>145</td>\n",
              "      <td>233</td>\n",
              "      <td>1</td>\n",
              "      <td>0</td>\n",
              "      <td>150</td>\n",
              "      <td>0</td>\n",
              "      <td>2.3</td>\n",
              "      <td>0</td>\n",
              "      <td>0</td>\n",
              "      <td>1</td>\n",
              "      <td>1</td>\n",
              "    </tr>\n",
              "    <tr>\n",
              "      <th>1</th>\n",
              "      <td>37</td>\n",
              "      <td>1</td>\n",
              "      <td>2</td>\n",
              "      <td>130</td>\n",
              "      <td>250</td>\n",
              "      <td>0</td>\n",
              "      <td>1</td>\n",
              "      <td>187</td>\n",
              "      <td>0</td>\n",
              "      <td>3.5</td>\n",
              "      <td>0</td>\n",
              "      <td>0</td>\n",
              "      <td>2</td>\n",
              "      <td>1</td>\n",
              "    </tr>\n",
              "    <tr>\n",
              "      <th>2</th>\n",
              "      <td>41</td>\n",
              "      <td>0</td>\n",
              "      <td>1</td>\n",
              "      <td>130</td>\n",
              "      <td>204</td>\n",
              "      <td>0</td>\n",
              "      <td>0</td>\n",
              "      <td>172</td>\n",
              "      <td>0</td>\n",
              "      <td>1.4</td>\n",
              "      <td>2</td>\n",
              "      <td>0</td>\n",
              "      <td>2</td>\n",
              "      <td>1</td>\n",
              "    </tr>\n",
              "  </tbody>\n",
              "</table>\n",
              "</div>"
            ],
            "text/plain": [
              "   Edad  Sexo  Dolor_pecho  ...  Número_vasos  Frecuencia cardíaca  Paro\n",
              "0    63     1            3  ...             0                    1     1\n",
              "1    37     1            2  ...             0                    2     1\n",
              "2    41     0            1  ...             0                    2     1\n",
              "\n",
              "[3 rows x 14 columns]"
            ]
          },
          "metadata": {},
          "execution_count": 16
        }
      ]
    },
    {
      "cell_type": "markdown",
      "metadata": {
        "id": "ljDo-IDca2lY"
      },
      "source": [
        "Limpieza de Datos"
      ]
    },
    {
      "cell_type": "code",
      "metadata": {
        "colab": {
          "base_uri": "https://localhost:8080/",
          "height": 456
        },
        "id": "J11jhzzVXzyN",
        "outputId": "6d64ed92-f018-4998-92c7-87d29745cb4f"
      },
      "source": [
        "df2.drop('Pendiente',axis = 1 )\n"
      ],
      "execution_count": null,
      "outputs": [
        {
          "output_type": "execute_result",
          "data": {
            "text/html": [
              "<div>\n",
              "<style scoped>\n",
              "    .dataframe tbody tr th:only-of-type {\n",
              "        vertical-align: middle;\n",
              "    }\n",
              "\n",
              "    .dataframe tbody tr th {\n",
              "        vertical-align: top;\n",
              "    }\n",
              "\n",
              "    .dataframe thead th {\n",
              "        text-align: right;\n",
              "    }\n",
              "</style>\n",
              "<table border=\"1\" class=\"dataframe\">\n",
              "  <thead>\n",
              "    <tr style=\"text-align: right;\">\n",
              "      <th></th>\n",
              "      <th>Edad</th>\n",
              "      <th>Sexo</th>\n",
              "      <th>Dolor_pecho</th>\n",
              "      <th>Presión_reposo</th>\n",
              "      <th>Colesterol</th>\n",
              "      <th>Azúcar_ayunas</th>\n",
              "      <th>Resultado_electro_reposo</th>\n",
              "      <th>Max_frecuencia_cardíaca</th>\n",
              "      <th>Angina_por_ejercicio</th>\n",
              "      <th>Pico_anterior</th>\n",
              "      <th>Número_vasos</th>\n",
              "      <th>Frecuencia cardíaca</th>\n",
              "      <th>Paro</th>\n",
              "    </tr>\n",
              "  </thead>\n",
              "  <tbody>\n",
              "    <tr>\n",
              "      <th>0</th>\n",
              "      <td>63</td>\n",
              "      <td>1</td>\n",
              "      <td>3</td>\n",
              "      <td>145</td>\n",
              "      <td>233</td>\n",
              "      <td>1</td>\n",
              "      <td>0</td>\n",
              "      <td>150</td>\n",
              "      <td>0</td>\n",
              "      <td>2.3</td>\n",
              "      <td>0</td>\n",
              "      <td>1</td>\n",
              "      <td>1</td>\n",
              "    </tr>\n",
              "    <tr>\n",
              "      <th>1</th>\n",
              "      <td>37</td>\n",
              "      <td>1</td>\n",
              "      <td>2</td>\n",
              "      <td>130</td>\n",
              "      <td>250</td>\n",
              "      <td>0</td>\n",
              "      <td>1</td>\n",
              "      <td>187</td>\n",
              "      <td>0</td>\n",
              "      <td>3.5</td>\n",
              "      <td>0</td>\n",
              "      <td>2</td>\n",
              "      <td>1</td>\n",
              "    </tr>\n",
              "    <tr>\n",
              "      <th>2</th>\n",
              "      <td>41</td>\n",
              "      <td>0</td>\n",
              "      <td>1</td>\n",
              "      <td>130</td>\n",
              "      <td>204</td>\n",
              "      <td>0</td>\n",
              "      <td>0</td>\n",
              "      <td>172</td>\n",
              "      <td>0</td>\n",
              "      <td>1.4</td>\n",
              "      <td>0</td>\n",
              "      <td>2</td>\n",
              "      <td>1</td>\n",
              "    </tr>\n",
              "    <tr>\n",
              "      <th>3</th>\n",
              "      <td>56</td>\n",
              "      <td>1</td>\n",
              "      <td>1</td>\n",
              "      <td>120</td>\n",
              "      <td>236</td>\n",
              "      <td>0</td>\n",
              "      <td>1</td>\n",
              "      <td>178</td>\n",
              "      <td>0</td>\n",
              "      <td>0.8</td>\n",
              "      <td>0</td>\n",
              "      <td>2</td>\n",
              "      <td>1</td>\n",
              "    </tr>\n",
              "    <tr>\n",
              "      <th>4</th>\n",
              "      <td>57</td>\n",
              "      <td>0</td>\n",
              "      <td>0</td>\n",
              "      <td>120</td>\n",
              "      <td>354</td>\n",
              "      <td>0</td>\n",
              "      <td>1</td>\n",
              "      <td>163</td>\n",
              "      <td>1</td>\n",
              "      <td>0.6</td>\n",
              "      <td>0</td>\n",
              "      <td>2</td>\n",
              "      <td>1</td>\n",
              "    </tr>\n",
              "    <tr>\n",
              "      <th>...</th>\n",
              "      <td>...</td>\n",
              "      <td>...</td>\n",
              "      <td>...</td>\n",
              "      <td>...</td>\n",
              "      <td>...</td>\n",
              "      <td>...</td>\n",
              "      <td>...</td>\n",
              "      <td>...</td>\n",
              "      <td>...</td>\n",
              "      <td>...</td>\n",
              "      <td>...</td>\n",
              "      <td>...</td>\n",
              "      <td>...</td>\n",
              "    </tr>\n",
              "    <tr>\n",
              "      <th>298</th>\n",
              "      <td>57</td>\n",
              "      <td>0</td>\n",
              "      <td>0</td>\n",
              "      <td>140</td>\n",
              "      <td>241</td>\n",
              "      <td>0</td>\n",
              "      <td>1</td>\n",
              "      <td>123</td>\n",
              "      <td>1</td>\n",
              "      <td>0.2</td>\n",
              "      <td>0</td>\n",
              "      <td>3</td>\n",
              "      <td>0</td>\n",
              "    </tr>\n",
              "    <tr>\n",
              "      <th>299</th>\n",
              "      <td>45</td>\n",
              "      <td>1</td>\n",
              "      <td>3</td>\n",
              "      <td>110</td>\n",
              "      <td>264</td>\n",
              "      <td>0</td>\n",
              "      <td>1</td>\n",
              "      <td>132</td>\n",
              "      <td>0</td>\n",
              "      <td>1.2</td>\n",
              "      <td>0</td>\n",
              "      <td>3</td>\n",
              "      <td>0</td>\n",
              "    </tr>\n",
              "    <tr>\n",
              "      <th>300</th>\n",
              "      <td>68</td>\n",
              "      <td>1</td>\n",
              "      <td>0</td>\n",
              "      <td>144</td>\n",
              "      <td>193</td>\n",
              "      <td>1</td>\n",
              "      <td>1</td>\n",
              "      <td>141</td>\n",
              "      <td>0</td>\n",
              "      <td>3.4</td>\n",
              "      <td>2</td>\n",
              "      <td>3</td>\n",
              "      <td>0</td>\n",
              "    </tr>\n",
              "    <tr>\n",
              "      <th>301</th>\n",
              "      <td>57</td>\n",
              "      <td>1</td>\n",
              "      <td>0</td>\n",
              "      <td>130</td>\n",
              "      <td>131</td>\n",
              "      <td>0</td>\n",
              "      <td>1</td>\n",
              "      <td>115</td>\n",
              "      <td>1</td>\n",
              "      <td>1.2</td>\n",
              "      <td>1</td>\n",
              "      <td>3</td>\n",
              "      <td>0</td>\n",
              "    </tr>\n",
              "    <tr>\n",
              "      <th>302</th>\n",
              "      <td>57</td>\n",
              "      <td>0</td>\n",
              "      <td>1</td>\n",
              "      <td>130</td>\n",
              "      <td>236</td>\n",
              "      <td>0</td>\n",
              "      <td>0</td>\n",
              "      <td>174</td>\n",
              "      <td>0</td>\n",
              "      <td>0.0</td>\n",
              "      <td>1</td>\n",
              "      <td>2</td>\n",
              "      <td>0</td>\n",
              "    </tr>\n",
              "  </tbody>\n",
              "</table>\n",
              "<p>303 rows × 13 columns</p>\n",
              "</div>"
            ],
            "text/plain": [
              "     Edad  Sexo  Dolor_pecho  ...  Número_vasos  Frecuencia cardíaca  Paro\n",
              "0      63     1            3  ...             0                    1     1\n",
              "1      37     1            2  ...             0                    2     1\n",
              "2      41     0            1  ...             0                    2     1\n",
              "3      56     1            1  ...             0                    2     1\n",
              "4      57     0            0  ...             0                    2     1\n",
              "..    ...   ...          ...  ...           ...                  ...   ...\n",
              "298    57     0            0  ...             0                    3     0\n",
              "299    45     1            3  ...             0                    3     0\n",
              "300    68     1            0  ...             2                    3     0\n",
              "301    57     1            0  ...             1                    3     0\n",
              "302    57     0            1  ...             1                    2     0\n",
              "\n",
              "[303 rows x 13 columns]"
            ]
          },
          "metadata": {},
          "execution_count": 29
        }
      ]
    },
    {
      "cell_type": "markdown",
      "metadata": {
        "id": "jaU3VXQFBkz-"
      },
      "source": [
        "## **Información estadística básica**"
      ]
    },
    {
      "cell_type": "code",
      "metadata": {
        "colab": {
          "base_uri": "https://localhost:8080/",
          "height": 334
        },
        "id": "EF_QUfyrhPRF",
        "outputId": "789acfd0-c856-432e-c835-641cc01d63dd"
      },
      "source": [
        "df2.describe()"
      ],
      "execution_count": null,
      "outputs": [
        {
          "output_type": "execute_result",
          "data": {
            "text/html": [
              "<div>\n",
              "<style scoped>\n",
              "    .dataframe tbody tr th:only-of-type {\n",
              "        vertical-align: middle;\n",
              "    }\n",
              "\n",
              "    .dataframe tbody tr th {\n",
              "        vertical-align: top;\n",
              "    }\n",
              "\n",
              "    .dataframe thead th {\n",
              "        text-align: right;\n",
              "    }\n",
              "</style>\n",
              "<table border=\"1\" class=\"dataframe\">\n",
              "  <thead>\n",
              "    <tr style=\"text-align: right;\">\n",
              "      <th></th>\n",
              "      <th>Edad</th>\n",
              "      <th>Sexo</th>\n",
              "      <th>Dolor_pecho</th>\n",
              "      <th>Presión_reposo</th>\n",
              "      <th>Colesterol</th>\n",
              "      <th>Azúcar_ayunas</th>\n",
              "      <th>Resultado_electro_reposo</th>\n",
              "      <th>Max_frecuencia_cardíaca</th>\n",
              "      <th>Angina_por_ejercicio</th>\n",
              "      <th>Pico_anterior</th>\n",
              "      <th>Pendiente</th>\n",
              "      <th>Número_vasos</th>\n",
              "      <th>Frecuencia cardíaca</th>\n",
              "      <th>Paro</th>\n",
              "    </tr>\n",
              "  </thead>\n",
              "  <tbody>\n",
              "    <tr>\n",
              "      <th>count</th>\n",
              "      <td>303.000000</td>\n",
              "      <td>303.000000</td>\n",
              "      <td>303.000000</td>\n",
              "      <td>303.000000</td>\n",
              "      <td>303.000000</td>\n",
              "      <td>303.000000</td>\n",
              "      <td>303.000000</td>\n",
              "      <td>303.000000</td>\n",
              "      <td>303.000000</td>\n",
              "      <td>303.000000</td>\n",
              "      <td>303.000000</td>\n",
              "      <td>303.000000</td>\n",
              "      <td>303.000000</td>\n",
              "      <td>303.000000</td>\n",
              "    </tr>\n",
              "    <tr>\n",
              "      <th>mean</th>\n",
              "      <td>54.366337</td>\n",
              "      <td>0.683168</td>\n",
              "      <td>0.966997</td>\n",
              "      <td>131.623762</td>\n",
              "      <td>246.264026</td>\n",
              "      <td>0.148515</td>\n",
              "      <td>0.528053</td>\n",
              "      <td>149.646865</td>\n",
              "      <td>0.326733</td>\n",
              "      <td>1.039604</td>\n",
              "      <td>1.399340</td>\n",
              "      <td>0.729373</td>\n",
              "      <td>2.313531</td>\n",
              "      <td>0.544554</td>\n",
              "    </tr>\n",
              "    <tr>\n",
              "      <th>std</th>\n",
              "      <td>9.082101</td>\n",
              "      <td>0.466011</td>\n",
              "      <td>1.032052</td>\n",
              "      <td>17.538143</td>\n",
              "      <td>51.830751</td>\n",
              "      <td>0.356198</td>\n",
              "      <td>0.525860</td>\n",
              "      <td>22.905161</td>\n",
              "      <td>0.469794</td>\n",
              "      <td>1.161075</td>\n",
              "      <td>0.616226</td>\n",
              "      <td>1.022606</td>\n",
              "      <td>0.612277</td>\n",
              "      <td>0.498835</td>\n",
              "    </tr>\n",
              "    <tr>\n",
              "      <th>min</th>\n",
              "      <td>29.000000</td>\n",
              "      <td>0.000000</td>\n",
              "      <td>0.000000</td>\n",
              "      <td>94.000000</td>\n",
              "      <td>126.000000</td>\n",
              "      <td>0.000000</td>\n",
              "      <td>0.000000</td>\n",
              "      <td>71.000000</td>\n",
              "      <td>0.000000</td>\n",
              "      <td>0.000000</td>\n",
              "      <td>0.000000</td>\n",
              "      <td>0.000000</td>\n",
              "      <td>0.000000</td>\n",
              "      <td>0.000000</td>\n",
              "    </tr>\n",
              "    <tr>\n",
              "      <th>25%</th>\n",
              "      <td>47.500000</td>\n",
              "      <td>0.000000</td>\n",
              "      <td>0.000000</td>\n",
              "      <td>120.000000</td>\n",
              "      <td>211.000000</td>\n",
              "      <td>0.000000</td>\n",
              "      <td>0.000000</td>\n",
              "      <td>133.500000</td>\n",
              "      <td>0.000000</td>\n",
              "      <td>0.000000</td>\n",
              "      <td>1.000000</td>\n",
              "      <td>0.000000</td>\n",
              "      <td>2.000000</td>\n",
              "      <td>0.000000</td>\n",
              "    </tr>\n",
              "    <tr>\n",
              "      <th>50%</th>\n",
              "      <td>55.000000</td>\n",
              "      <td>1.000000</td>\n",
              "      <td>1.000000</td>\n",
              "      <td>130.000000</td>\n",
              "      <td>240.000000</td>\n",
              "      <td>0.000000</td>\n",
              "      <td>1.000000</td>\n",
              "      <td>153.000000</td>\n",
              "      <td>0.000000</td>\n",
              "      <td>0.800000</td>\n",
              "      <td>1.000000</td>\n",
              "      <td>0.000000</td>\n",
              "      <td>2.000000</td>\n",
              "      <td>1.000000</td>\n",
              "    </tr>\n",
              "    <tr>\n",
              "      <th>75%</th>\n",
              "      <td>61.000000</td>\n",
              "      <td>1.000000</td>\n",
              "      <td>2.000000</td>\n",
              "      <td>140.000000</td>\n",
              "      <td>274.500000</td>\n",
              "      <td>0.000000</td>\n",
              "      <td>1.000000</td>\n",
              "      <td>166.000000</td>\n",
              "      <td>1.000000</td>\n",
              "      <td>1.600000</td>\n",
              "      <td>2.000000</td>\n",
              "      <td>1.000000</td>\n",
              "      <td>3.000000</td>\n",
              "      <td>1.000000</td>\n",
              "    </tr>\n",
              "    <tr>\n",
              "      <th>max</th>\n",
              "      <td>77.000000</td>\n",
              "      <td>1.000000</td>\n",
              "      <td>3.000000</td>\n",
              "      <td>200.000000</td>\n",
              "      <td>564.000000</td>\n",
              "      <td>1.000000</td>\n",
              "      <td>2.000000</td>\n",
              "      <td>202.000000</td>\n",
              "      <td>1.000000</td>\n",
              "      <td>6.200000</td>\n",
              "      <td>2.000000</td>\n",
              "      <td>4.000000</td>\n",
              "      <td>3.000000</td>\n",
              "      <td>1.000000</td>\n",
              "    </tr>\n",
              "  </tbody>\n",
              "</table>\n",
              "</div>"
            ],
            "text/plain": [
              "             Edad        Sexo  ...  Frecuencia cardíaca        Paro\n",
              "count  303.000000  303.000000  ...           303.000000  303.000000\n",
              "mean    54.366337    0.683168  ...             2.313531    0.544554\n",
              "std      9.082101    0.466011  ...             0.612277    0.498835\n",
              "min     29.000000    0.000000  ...             0.000000    0.000000\n",
              "25%     47.500000    0.000000  ...             2.000000    0.000000\n",
              "50%     55.000000    1.000000  ...             2.000000    1.000000\n",
              "75%     61.000000    1.000000  ...             3.000000    1.000000\n",
              "max     77.000000    1.000000  ...             3.000000    1.000000\n",
              "\n",
              "[8 rows x 14 columns]"
            ]
          },
          "metadata": {},
          "execution_count": 56
        }
      ]
    },
    {
      "cell_type": "markdown",
      "metadata": {
        "id": "3LoV6o7ACUUO"
      },
      "source": [
        "- Promedios"
      ]
    },
    {
      "cell_type": "code",
      "metadata": {
        "colab": {
          "base_uri": "https://localhost:8080/"
        },
        "id": "K8Q-ZYUkBzdk",
        "outputId": "f70659d4-6c7d-4e50-e8a0-ca90f4480eda"
      },
      "source": [
        "for i in range(0, len(df2.columns)):\n",
        "  print(\"El promedio de los elementos de la columna\", df2.columns[i], \"es\", df2[df2.columns[i]].mean())"
      ],
      "execution_count": null,
      "outputs": [
        {
          "output_type": "stream",
          "name": "stdout",
          "text": [
            "El promedio de los elementos de la columna Edad es 54.366336633663366\n",
            "El promedio de los elementos de la columna Sexo es 0.6831683168316832\n",
            "El promedio de los elementos de la columna Dolor_pecho es 0.966996699669967\n",
            "El promedio de los elementos de la columna Presión_reposo es 131.62376237623764\n",
            "El promedio de los elementos de la columna Colesterol es 246.26402640264027\n",
            "El promedio de los elementos de la columna Azúcar_ayunas es 0.1485148514851485\n",
            "El promedio de los elementos de la columna Resultado_electro_reposo es 0.528052805280528\n",
            "El promedio de los elementos de la columna Max_frecuencia_cardíaca es 149.64686468646866\n",
            "El promedio de los elementos de la columna Angina_por_ejercicio es 0.32673267326732675\n",
            "El promedio de los elementos de la columna Pico_anterior es 1.0396039603960396\n",
            "El promedio de los elementos de la columna Pendiente es 1.3993399339933994\n",
            "El promedio de los elementos de la columna Número_vasos es 0.7293729372937293\n",
            "El promedio de los elementos de la columna Frecuencia cardíaca es 2.3135313531353137\n",
            "El promedio de los elementos de la columna Paro es 0.5445544554455446\n"
          ]
        }
      ]
    },
    {
      "cell_type": "markdown",
      "metadata": {
        "id": "Bsz4ELNoCY2U"
      },
      "source": [
        "Estos promedios son importantes porque nos damos la idea de alrededor de qué valores se encuentran las observaciones."
      ]
    },
    {
      "cell_type": "markdown",
      "metadata": {
        "id": "OAAgsH9SC9TI"
      },
      "source": [
        "- Mínimo y máximo"
      ]
    },
    {
      "cell_type": "code",
      "metadata": {
        "colab": {
          "base_uri": "https://localhost:8080/"
        },
        "id": "Swq9wlOsDIAU",
        "outputId": "1d2c58d9-543b-4043-fb79-4268a2aa561f"
      },
      "source": [
        "print(\"El mínimo de la columna\", df2.columns[0], \"es\", df2[df2.columns[0]].min(), \"y el máximo es\", df2[df2.columns[0]].max())\n",
        "print(\"El mínimo de la columna\", df2.columns[3], \"es\", df2[df2.columns[3]].min(), \"y el máximo es\", df2[df2.columns[3]].max())\n",
        "print(\"El mínimo de la columna\", df2.columns[4], \"es\", df2[df2.columns[4]].min(), \"y el máximo es\", df2[df2.columns[4]].max())\n",
        "print(\"El mínimo de la columna\", df2.columns[7], \"es\", df2[df2.columns[7]].min(), \"y el máximo es\", df2[df2.columns[7]].max())\n",
        "print(\"El mínimo de la columna\", df2.columns[9], \"es\", df2[df2.columns[9]].min(), \"y el máximo es\", df2[df2.columns[9]].max())"
      ],
      "execution_count": null,
      "outputs": [
        {
          "output_type": "stream",
          "name": "stdout",
          "text": [
            "El mínimo de la columna Edad es 29 y el máximo es 77\n",
            "El mínimo de la columna Presión_reposo es 94 y el máximo es 200\n",
            "El mínimo de la columna Colesterol es 126 y el máximo es 564\n",
            "El mínimo de la columna Max_frecuencia_cardíaca es 71 y el máximo es 202\n",
            "El mínimo de la columna Pico_anterior es 0.0 y el máximo es 6.2\n"
          ]
        }
      ]
    },
    {
      "cell_type": "markdown",
      "metadata": {
        "id": "u2BwvYudDtyB"
      },
      "source": [
        "Estos son los mínimos y máximos importantes, ya que los demás datos son clasificatorios. Así sabemos los rangos de ciertos parámetros de las observaciones."
      ]
    },
    {
      "cell_type": "markdown",
      "metadata": {
        "id": "YUtQXjxoD-Sr"
      },
      "source": [
        "- Desviación estándar"
      ]
    },
    {
      "cell_type": "code",
      "metadata": {
        "colab": {
          "base_uri": "https://localhost:8080/"
        },
        "id": "Jx0GBgHzEQsE",
        "outputId": "55a6c3ba-cbae-4908-93cb-528f74b2618d"
      },
      "source": [
        "for i in range(0, len(df2.columns)):\n",
        "  print(\"La desviación estándar de la columna\", df2.columns[i], \"es\", df2[df2.columns[i]].std())"
      ],
      "execution_count": null,
      "outputs": [
        {
          "output_type": "stream",
          "name": "stdout",
          "text": [
            "La desviación estándar de la columna Edad es 9.082100989837858\n",
            "La desviación estándar de la columna Sexo es 0.4660108233396251\n",
            "La desviación estándar de la columna Dolor_pecho es 1.0320524894832992\n",
            "La desviación estándar de la columna Presión_reposo es 17.53814281351709\n",
            "La desviación estándar de la columna Colesterol es 51.830750987930045\n",
            "La desviación estándar de la columna Azúcar_ayunas es 0.35619787492797594\n",
            "La desviación estándar de la columna Resultado_electro_reposo es 0.525859596359298\n",
            "La desviación estándar de la columna Max_frecuencia_cardíaca es 22.905161114914087\n",
            "La desviación estándar de la columna Angina_por_ejercicio es 0.46979446452231716\n",
            "La desviación estándar de la columna Pico_anterior es 1.1610750220686343\n",
            "La desviación estándar de la columna Pendiente es 0.6162261453459631\n",
            "La desviación estándar de la columna Número_vasos es 1.0226063649693276\n",
            "La desviación estándar de la columna Frecuencia cardíaca es 0.6122765072781412\n",
            "La desviación estándar de la columna Paro es 0.4988347841643926\n"
          ]
        }
      ]
    },
    {
      "cell_type": "markdown",
      "metadata": {
        "id": "OmJQpVSdDJnu"
      },
      "source": [
        "Con la desviación estándar podemos saber más o menos cuánto varían los datos. Así podemos darnor una idea del comportamiento físico de las personas observadas"
      ]
    },
    {
      "cell_type": "markdown",
      "metadata": {
        "id": "Gpfw11l1Era8"
      },
      "source": [
        "- Correlación de los datos"
      ]
    },
    {
      "cell_type": "code",
      "metadata": {
        "colab": {
          "base_uri": "https://localhost:8080/",
          "height": 526
        },
        "id": "tweV0dB0ExRG",
        "outputId": "a6203ed0-2263-4bd9-cd0f-f222de673c72"
      },
      "source": [
        "df2.corr()"
      ],
      "execution_count": null,
      "outputs": [
        {
          "output_type": "execute_result",
          "data": {
            "text/html": [
              "<div>\n",
              "<style scoped>\n",
              "    .dataframe tbody tr th:only-of-type {\n",
              "        vertical-align: middle;\n",
              "    }\n",
              "\n",
              "    .dataframe tbody tr th {\n",
              "        vertical-align: top;\n",
              "    }\n",
              "\n",
              "    .dataframe thead th {\n",
              "        text-align: right;\n",
              "    }\n",
              "</style>\n",
              "<table border=\"1\" class=\"dataframe\">\n",
              "  <thead>\n",
              "    <tr style=\"text-align: right;\">\n",
              "      <th></th>\n",
              "      <th>Edad</th>\n",
              "      <th>Sexo</th>\n",
              "      <th>Dolor_pecho</th>\n",
              "      <th>Presión_reposo</th>\n",
              "      <th>Colesterol</th>\n",
              "      <th>Azúcar_ayunas</th>\n",
              "      <th>Resultado_electro_reposo</th>\n",
              "      <th>Max_frecuencia_cardíaca</th>\n",
              "      <th>Angina_por_ejercicio</th>\n",
              "      <th>Pico_anterior</th>\n",
              "      <th>Pendiente</th>\n",
              "      <th>Número_vasos</th>\n",
              "      <th>Frecuencia cardíaca</th>\n",
              "      <th>Paro</th>\n",
              "    </tr>\n",
              "  </thead>\n",
              "  <tbody>\n",
              "    <tr>\n",
              "      <th>Edad</th>\n",
              "      <td>1.000000</td>\n",
              "      <td>-0.098447</td>\n",
              "      <td>-0.068653</td>\n",
              "      <td>0.279351</td>\n",
              "      <td>0.213678</td>\n",
              "      <td>0.121308</td>\n",
              "      <td>-0.116211</td>\n",
              "      <td>-0.398522</td>\n",
              "      <td>0.096801</td>\n",
              "      <td>0.210013</td>\n",
              "      <td>-0.168814</td>\n",
              "      <td>0.276326</td>\n",
              "      <td>0.068001</td>\n",
              "      <td>-0.225439</td>\n",
              "    </tr>\n",
              "    <tr>\n",
              "      <th>Sexo</th>\n",
              "      <td>-0.098447</td>\n",
              "      <td>1.000000</td>\n",
              "      <td>-0.049353</td>\n",
              "      <td>-0.056769</td>\n",
              "      <td>-0.197912</td>\n",
              "      <td>0.045032</td>\n",
              "      <td>-0.058196</td>\n",
              "      <td>-0.044020</td>\n",
              "      <td>0.141664</td>\n",
              "      <td>0.096093</td>\n",
              "      <td>-0.030711</td>\n",
              "      <td>0.118261</td>\n",
              "      <td>0.210041</td>\n",
              "      <td>-0.280937</td>\n",
              "    </tr>\n",
              "    <tr>\n",
              "      <th>Dolor_pecho</th>\n",
              "      <td>-0.068653</td>\n",
              "      <td>-0.049353</td>\n",
              "      <td>1.000000</td>\n",
              "      <td>0.047608</td>\n",
              "      <td>-0.076904</td>\n",
              "      <td>0.094444</td>\n",
              "      <td>0.044421</td>\n",
              "      <td>0.295762</td>\n",
              "      <td>-0.394280</td>\n",
              "      <td>-0.149230</td>\n",
              "      <td>0.119717</td>\n",
              "      <td>-0.181053</td>\n",
              "      <td>-0.161736</td>\n",
              "      <td>0.433798</td>\n",
              "    </tr>\n",
              "    <tr>\n",
              "      <th>Presión_reposo</th>\n",
              "      <td>0.279351</td>\n",
              "      <td>-0.056769</td>\n",
              "      <td>0.047608</td>\n",
              "      <td>1.000000</td>\n",
              "      <td>0.123174</td>\n",
              "      <td>0.177531</td>\n",
              "      <td>-0.114103</td>\n",
              "      <td>-0.046698</td>\n",
              "      <td>0.067616</td>\n",
              "      <td>0.193216</td>\n",
              "      <td>-0.121475</td>\n",
              "      <td>0.101389</td>\n",
              "      <td>0.062210</td>\n",
              "      <td>-0.144931</td>\n",
              "    </tr>\n",
              "    <tr>\n",
              "      <th>Colesterol</th>\n",
              "      <td>0.213678</td>\n",
              "      <td>-0.197912</td>\n",
              "      <td>-0.076904</td>\n",
              "      <td>0.123174</td>\n",
              "      <td>1.000000</td>\n",
              "      <td>0.013294</td>\n",
              "      <td>-0.151040</td>\n",
              "      <td>-0.009940</td>\n",
              "      <td>0.067023</td>\n",
              "      <td>0.053952</td>\n",
              "      <td>-0.004038</td>\n",
              "      <td>0.070511</td>\n",
              "      <td>0.098803</td>\n",
              "      <td>-0.085239</td>\n",
              "    </tr>\n",
              "    <tr>\n",
              "      <th>Azúcar_ayunas</th>\n",
              "      <td>0.121308</td>\n",
              "      <td>0.045032</td>\n",
              "      <td>0.094444</td>\n",
              "      <td>0.177531</td>\n",
              "      <td>0.013294</td>\n",
              "      <td>1.000000</td>\n",
              "      <td>-0.084189</td>\n",
              "      <td>-0.008567</td>\n",
              "      <td>0.025665</td>\n",
              "      <td>0.005747</td>\n",
              "      <td>-0.059894</td>\n",
              "      <td>0.137979</td>\n",
              "      <td>-0.032019</td>\n",
              "      <td>-0.028046</td>\n",
              "    </tr>\n",
              "    <tr>\n",
              "      <th>Resultado_electro_reposo</th>\n",
              "      <td>-0.116211</td>\n",
              "      <td>-0.058196</td>\n",
              "      <td>0.044421</td>\n",
              "      <td>-0.114103</td>\n",
              "      <td>-0.151040</td>\n",
              "      <td>-0.084189</td>\n",
              "      <td>1.000000</td>\n",
              "      <td>0.044123</td>\n",
              "      <td>-0.070733</td>\n",
              "      <td>-0.058770</td>\n",
              "      <td>0.093045</td>\n",
              "      <td>-0.072042</td>\n",
              "      <td>-0.011981</td>\n",
              "      <td>0.137230</td>\n",
              "    </tr>\n",
              "    <tr>\n",
              "      <th>Max_frecuencia_cardíaca</th>\n",
              "      <td>-0.398522</td>\n",
              "      <td>-0.044020</td>\n",
              "      <td>0.295762</td>\n",
              "      <td>-0.046698</td>\n",
              "      <td>-0.009940</td>\n",
              "      <td>-0.008567</td>\n",
              "      <td>0.044123</td>\n",
              "      <td>1.000000</td>\n",
              "      <td>-0.378812</td>\n",
              "      <td>-0.344187</td>\n",
              "      <td>0.386784</td>\n",
              "      <td>-0.213177</td>\n",
              "      <td>-0.096439</td>\n",
              "      <td>0.421741</td>\n",
              "    </tr>\n",
              "    <tr>\n",
              "      <th>Angina_por_ejercicio</th>\n",
              "      <td>0.096801</td>\n",
              "      <td>0.141664</td>\n",
              "      <td>-0.394280</td>\n",
              "      <td>0.067616</td>\n",
              "      <td>0.067023</td>\n",
              "      <td>0.025665</td>\n",
              "      <td>-0.070733</td>\n",
              "      <td>-0.378812</td>\n",
              "      <td>1.000000</td>\n",
              "      <td>0.288223</td>\n",
              "      <td>-0.257748</td>\n",
              "      <td>0.115739</td>\n",
              "      <td>0.206754</td>\n",
              "      <td>-0.436757</td>\n",
              "    </tr>\n",
              "    <tr>\n",
              "      <th>Pico_anterior</th>\n",
              "      <td>0.210013</td>\n",
              "      <td>0.096093</td>\n",
              "      <td>-0.149230</td>\n",
              "      <td>0.193216</td>\n",
              "      <td>0.053952</td>\n",
              "      <td>0.005747</td>\n",
              "      <td>-0.058770</td>\n",
              "      <td>-0.344187</td>\n",
              "      <td>0.288223</td>\n",
              "      <td>1.000000</td>\n",
              "      <td>-0.577537</td>\n",
              "      <td>0.222682</td>\n",
              "      <td>0.210244</td>\n",
              "      <td>-0.430696</td>\n",
              "    </tr>\n",
              "    <tr>\n",
              "      <th>Pendiente</th>\n",
              "      <td>-0.168814</td>\n",
              "      <td>-0.030711</td>\n",
              "      <td>0.119717</td>\n",
              "      <td>-0.121475</td>\n",
              "      <td>-0.004038</td>\n",
              "      <td>-0.059894</td>\n",
              "      <td>0.093045</td>\n",
              "      <td>0.386784</td>\n",
              "      <td>-0.257748</td>\n",
              "      <td>-0.577537</td>\n",
              "      <td>1.000000</td>\n",
              "      <td>-0.080155</td>\n",
              "      <td>-0.104764</td>\n",
              "      <td>0.345877</td>\n",
              "    </tr>\n",
              "    <tr>\n",
              "      <th>Número_vasos</th>\n",
              "      <td>0.276326</td>\n",
              "      <td>0.118261</td>\n",
              "      <td>-0.181053</td>\n",
              "      <td>0.101389</td>\n",
              "      <td>0.070511</td>\n",
              "      <td>0.137979</td>\n",
              "      <td>-0.072042</td>\n",
              "      <td>-0.213177</td>\n",
              "      <td>0.115739</td>\n",
              "      <td>0.222682</td>\n",
              "      <td>-0.080155</td>\n",
              "      <td>1.000000</td>\n",
              "      <td>0.151832</td>\n",
              "      <td>-0.391724</td>\n",
              "    </tr>\n",
              "    <tr>\n",
              "      <th>Frecuencia cardíaca</th>\n",
              "      <td>0.068001</td>\n",
              "      <td>0.210041</td>\n",
              "      <td>-0.161736</td>\n",
              "      <td>0.062210</td>\n",
              "      <td>0.098803</td>\n",
              "      <td>-0.032019</td>\n",
              "      <td>-0.011981</td>\n",
              "      <td>-0.096439</td>\n",
              "      <td>0.206754</td>\n",
              "      <td>0.210244</td>\n",
              "      <td>-0.104764</td>\n",
              "      <td>0.151832</td>\n",
              "      <td>1.000000</td>\n",
              "      <td>-0.344029</td>\n",
              "    </tr>\n",
              "    <tr>\n",
              "      <th>Paro</th>\n",
              "      <td>-0.225439</td>\n",
              "      <td>-0.280937</td>\n",
              "      <td>0.433798</td>\n",
              "      <td>-0.144931</td>\n",
              "      <td>-0.085239</td>\n",
              "      <td>-0.028046</td>\n",
              "      <td>0.137230</td>\n",
              "      <td>0.421741</td>\n",
              "      <td>-0.436757</td>\n",
              "      <td>-0.430696</td>\n",
              "      <td>0.345877</td>\n",
              "      <td>-0.391724</td>\n",
              "      <td>-0.344029</td>\n",
              "      <td>1.000000</td>\n",
              "    </tr>\n",
              "  </tbody>\n",
              "</table>\n",
              "</div>"
            ],
            "text/plain": [
              "                              Edad      Sexo  ...  Frecuencia cardíaca      Paro\n",
              "Edad                      1.000000 -0.098447  ...             0.068001 -0.225439\n",
              "Sexo                     -0.098447  1.000000  ...             0.210041 -0.280937\n",
              "Dolor_pecho              -0.068653 -0.049353  ...            -0.161736  0.433798\n",
              "Presión_reposo            0.279351 -0.056769  ...             0.062210 -0.144931\n",
              "Colesterol                0.213678 -0.197912  ...             0.098803 -0.085239\n",
              "Azúcar_ayunas             0.121308  0.045032  ...            -0.032019 -0.028046\n",
              "Resultado_electro_reposo -0.116211 -0.058196  ...            -0.011981  0.137230\n",
              "Max_frecuencia_cardíaca  -0.398522 -0.044020  ...            -0.096439  0.421741\n",
              "Angina_por_ejercicio      0.096801  0.141664  ...             0.206754 -0.436757\n",
              "Pico_anterior             0.210013  0.096093  ...             0.210244 -0.430696\n",
              "Pendiente                -0.168814 -0.030711  ...            -0.104764  0.345877\n",
              "Número_vasos              0.276326  0.118261  ...             0.151832 -0.391724\n",
              "Frecuencia cardíaca       0.068001  0.210041  ...             1.000000 -0.344029\n",
              "Paro                     -0.225439 -0.280937  ...            -0.344029  1.000000\n",
              "\n",
              "[14 rows x 14 columns]"
            ]
          },
          "metadata": {},
          "execution_count": 25
        }
      ]
    },
    {
      "cell_type": "markdown",
      "metadata": {
        "id": "7XwEgv2ME3El"
      },
      "source": [
        "Con esto sabemos qué tanto se relacionan entre sí las variables. A mayor correlación, más relación.\n",
        "\n",
        "Esto se ve mejor en el siguiente mapa de correlación:"
      ]
    },
    {
      "cell_type": "code",
      "metadata": {
        "colab": {
          "base_uri": "https://localhost:8080/",
          "height": 1000
        },
        "id": "2Pk5AafQFEU6",
        "outputId": "eee6bd6b-8729-4eb1-9674-7ba22504fed3"
      },
      "source": [
        "fig, ax = plt.subplots(figsize = (18,18))\n",
        "sns.heatmap(df2.corr(), annot = True, linewidths = 0.5, fmt = \".1f\", ax = ax)\n",
        "plt.xticks(rotation = 90)\n",
        "plt.yticks(rotation = 0)\n",
        "plt.title('Mapa de correlación')\n",
        "plt.show()"
      ],
      "execution_count": null,
      "outputs": [
        {
          "output_type": "display_data",
          "data": {
            "image/png": "[encoded data removed]",
            "text/plain": [
              "<Figure size 1296x1296 with 2 Axes>"
            ]
          },
          "metadata": {
            "needs_background": "light"
          }
        }
      ]
    },
    {
      "cell_type": "markdown",
      "metadata": {
        "id": "jnFpADtmFHKZ"
      },
      "source": [
        "Como vemos, las variables no están muy relacionadas."
      ]
    },
    {
      "cell_type": "markdown",
      "metadata": {
        "id": "p5D8EEE4bQsW"
      },
      "source": [
        "##**Gráficas**"
      ]
    },
    {
      "cell_type": "code",
      "metadata": {
        "id": "izKI7AXobSq8"
      },
      "source": [
        "import matplotlib.pyplot as plt\n",
        "import seaborn as sns"
      ],
      "execution_count": null,
      "outputs": []
    },
    {
      "cell_type": "code",
      "metadata": {
        "colab": {
          "base_uri": "https://localhost:8080/",
          "height": 498
        },
        "id": "MQSc_ikybqZ_",
        "outputId": "7d7028b6-b4e6-44b1-a51e-b163c55c43a5"
      },
      "source": [
        "df2.hist(figsize=(20,10))\n",
        "plt.show()"
      ],
      "execution_count": null,
      "outputs": [
        {
          "output_type": "display_data",
          "data": {
            "image/png": "[encoded data removed]",
            "text/plain": [
              "<Figure size 1440x720 with 16 Axes>"
            ]
          },
          "metadata": {
            "needs_background": "light"
          }
        }
      ]
    },
    {
      "cell_type": "code",
      "metadata": {
        "colab": {
          "base_uri": "https://localhost:8080/",
          "height": 509
        },
        "id": "F686G9iscg2s",
        "outputId": "16a7021b-a818-40fb-eab7-1bc019281eb9"
      },
      "source": [
        "fig, ax = plt.subplots(figsize = (13, 5))\n",
        "plt.xlabel(\"\\nTasa\", fontsize = 18)\n",
        "plt.ylabel(\"Frecuencia\\n\\n\", fontsize = 18)\n",
        "plt.title(\"\\n Tasa de frecuencia cardiaca\\n\", fontsize = 18)\n",
        "df2['Dolor_pecho'].value_counts().plot.barh()\n",
        "df2['Dolor_pecho'].value_counts()"
      ],
      "execution_count": null,
      "outputs": [
        {
          "output_type": "execute_result",
          "data": {
            "text/plain": [
              "0    143\n",
              "2     87\n",
              "1     50\n",
              "3     23\n",
              "Name: Dolor_pecho, dtype: int64"
            ]
          },
          "metadata": {},
          "execution_count": 66
        },
        {
          "output_type": "display_data",
          "data": {
            "image/png": "[encoded data removed]",
            "text/plain": [
              "<Figure size 936x360 with 1 Axes>"
            ]
          },
          "metadata": {
            "needs_background": "light"
          }
        }
      ]
    },
    {
      "cell_type": "markdown",
      "metadata": {
        "id": "oicCtuMGfgp-"
      },
      "source": [
        "0: Angina típica\n",
        "\n",
        "1: Angina atípica\n",
        "\n",
        "2: Dolor sin angina\n",
        "\n",
        "3: Sin dolor\n"
      ]
    },
    {
      "cell_type": "markdown",
      "metadata": {
        "id": "giGxDwmTmUAM"
      },
      "source": [
        "Muy pocas personas no siente dolor al tener un ataque al corazón y en su mayoría sient en la Angina"
      ]
    },
    {
      "cell_type": "code",
      "metadata": {
        "colab": {
          "base_uri": "https://localhost:8080/",
          "height": 265
        },
        "id": "eP2HHNauiOqn",
        "outputId": "6f7386ec-881f-4de5-b9bd-9a26210ee29e"
      },
      "source": [
        "past = df2.Sexo.value_counts()\n",
        "past.plot.pie()"
      ],
      "execution_count": null,
      "outputs": [
        {
          "output_type": "execute_result",
          "data": {
            "text/plain": [
              "<matplotlib.axes._subplots.AxesSubplot at 0x7fe5a9cf3e10>"
            ]
          },
          "metadata": {},
          "execution_count": 65
        },
        {
          "output_type": "display_data",
          "data": {
            "image/png": "[encoded data removed]",
            "text/plain": [
              "<Figure size 432x288 with 1 Axes>"
            ]
          },
          "metadata": {}
        }
      ]
    },
    {
      "cell_type": "markdown",
      "metadata": {
        "id": "3EjlRNr4mCRT"
      },
      "source": [
        "Los Hombres sonmas propensos a sufrir ataques"
      ]
    },
    {
      "cell_type": "code",
      "metadata": {
        "colab": {
          "base_uri": "https://localhost:8080/",
          "height": 320
        },
        "id": "yJ3VzTs9mGUx",
        "outputId": "80086bca-18e5-4258-f563-7ca7f6459a20"
      },
      "source": [
        "df2.Edad.hist(figsize=(10,5))\n",
        "plt.show()"
      ],
      "execution_count": null,
      "outputs": [
        {
          "output_type": "display_data",
          "data": {
            "image/png": "[encoded data removed]",
            "text/plain": [
              "<Figure size 720x360 with 1 Axes>"
            ]
          },
          "metadata": {
            "needs_background": "light"
          }
        }
      ]
    },
    {
      "cell_type": "markdown",
      "metadata": {
        "id": "kf6HDGi4mLTZ"
      },
      "source": [
        "La Edad con mayor reportes de ataque son los 60"
      ]
    },
    {
      "cell_type": "code",
      "metadata": {
        "colab": {
          "base_uri": "https://localhost:8080/",
          "height": 284
        },
        "id": "eCwjs5A8mRfp",
        "outputId": "b4c67c01-dabd-4895-bf7f-28b3917f5a5b"
      },
      "source": [
        "df2['Colesterol'].value_counts().sort_index().plot.line(figsize=(20,5))"
      ],
      "execution_count": null,
      "outputs": [
        {
          "output_type": "execute_result",
          "data": {
            "text/plain": [
              "<matplotlib.axes._subplots.AxesSubplot at 0x7fe5a9c3aed0>"
            ]
          },
          "metadata": {},
          "execution_count": 78
        },
        {
          "output_type": "display_data",
          "data": {
            "image/png": "[encoded data removed]",
            "text/plain": [
              "<Figure size 1440x360 with 1 Axes>"
            ]
          },
          "metadata": {
            "needs_background": "light"
          }
        }
      ]
    },
    {
      "cell_type": "markdown",
      "metadata": {
        "id": "nGirZVIlm5fC"
      },
      "source": [
        "En la mayoría de personas el colesterol ronda entre los 200 y 300 mg/dl"
      ]
    }
  ]
}