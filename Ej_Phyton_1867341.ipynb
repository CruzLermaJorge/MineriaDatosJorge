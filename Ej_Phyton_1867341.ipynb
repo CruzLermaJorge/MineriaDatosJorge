{
  "nbformat": 4,
  "nbformat_minor": 0,
  "metadata": {
    "colab": {
      "name": "Te damos la bienvenida a Colaboratory",
      "provenance": [],
      "collapsed_sections": [],
      "toc_visible": true,
      "include_colab_link": true
    },
    "kernelspec": {
      "display_name": "Python 3",
      "name": "python3"
    }
  },
  "cells": [
    {
      "cell_type": "markdown",
      "metadata": {
        "id": "view-in-github",
        "colab_type": "text"
      },
      "source": [
        "<a href=\"https://colab.research.google.com/github/CruzLermaJorge/MineriaDatosJorge/blob/main/Ej_Phyton_1867341.ipynb\" target=\"_parent\"><img src=\"https://colab.research.google.com/assets/colab-badge.svg\" alt=\"Open In Colab\"/></a>"
      ]
    },
    {
      "cell_type": "markdown",
      "metadata": {
        "id": "qDlF6ivrJQ0x"
      },
      "source": [
        "**Ejercicio 1**"
      ]
    },
    {
      "cell_type": "code",
      "metadata": {
        "colab": {
          "base_uri": "https://localhost:8080/"
        },
        "id": "7Kz1_2d4A9wO",
        "outputId": "36bcbc6d-59b2-4472-bb87-643a2754bd3e"
      },
      "source": [
        "nom = str(input(\"Introduce tu nombre:\" ))\n",
        "mat = int(input(\"Introduce tu matricula: \"))\n",
        "print(\"Nombre:\",nom,\"    Matricula:\",mat)"
      ],
      "execution_count": 4,
      "outputs": [
        {
          "output_type": "stream",
          "text": [
            "Introduce tu nombre:Jorge Antonio Cruz Lerma\n",
            "Introduce tu matricula: 1867341\n",
            "Nombre: Jorge Antonio Cruz Lerma     Matricula: 1867341\n"
          ],
          "name": "stdout"
        }
      ]
    },
    {
      "cell_type": "markdown",
      "metadata": {
        "id": "wmIpKV-vJJzy"
      },
      "source": [
        "**Ejercio 2**"
      ]
    },
    {
      "cell_type": "code",
      "metadata": {
        "colab": {
          "base_uri": "https://localhost:8080/"
        },
        "id": "LBeAfHE_ILhA",
        "outputId": "a517d372-39b6-41c2-8f8f-f7f9dadacfdf"
      },
      "source": [
        "n1=int(input(\"Introduce el primer numero: \"))\n",
        "n2=int(input(\"Introduce el segundo numero: \"))\n",
        "sum=n1+n2\n",
        "rest=n1-n2\n",
        "mult=n1*n2\n",
        "div=n1/n2\n",
        "exp=n1**n2\n",
        "print(\"Resultados:\",\n",
        "      \" Suma=\",sum,\n",
        "      \" Resta=\",rest,\n",
        "      \" Division=\",div,\n",
        "      \" Exponente=\",exp)"
      ],
      "execution_count": 5,
      "outputs": [
        {
          "output_type": "stream",
          "text": [
            "Introduce el primer numero: 2\n",
            "Introduce el segundo numero: 3\n",
            "Resultados:  Suma= 5  Resta= -1  Division= 0.6666666666666666  Exponente= 8\n"
          ],
          "name": "stdout"
        }
      ]
    },
    {
      "cell_type": "markdown",
      "metadata": {
        "id": "uLZA-VduJWov"
      },
      "source": [
        "**Ejercicio 3**"
      ]
    },
    {
      "cell_type": "code",
      "metadata": {
        "colab": {
          "base_uri": "https://localhost:8080/"
        },
        "id": "O7RagMOWJY6m",
        "outputId": "a49549a4-122d-45da-bfd3-808c0612ea08"
      },
      "source": [
        "for i in range(1,11):\n",
        "    print (3,\" * \", i , \" = \", i * 3)\n",
        "i=1\n",
        "suma=0\n",
        "while i<=10:\n",
        "    suma=suma+i*3\n",
        "    i=i+1\n",
        "\n",
        "print(\"Resultado de la suma= \",suma)"
      ],
      "execution_count": 6,
      "outputs": [
        {
          "output_type": "stream",
          "text": [
            "3  *  1  =  3\n",
            "3  *  2  =  6\n",
            "3  *  3  =  9\n",
            "3  *  4  =  12\n",
            "3  *  5  =  15\n",
            "3  *  6  =  18\n",
            "3  *  7  =  21\n",
            "3  *  8  =  24\n",
            "3  *  9  =  27\n",
            "3  *  10  =  30\n",
            "Resultado de la suma=  165\n"
          ],
          "name": "stdout"
        }
      ]
    },
    {
      "cell_type": "markdown",
      "metadata": {
        "id": "ri7ZXgYSQqVi"
      },
      "source": [
        "**Ejercicio 4.1**"
      ]
    },
    {
      "cell_type": "code",
      "metadata": {
        "colab": {
          "base_uri": "https://localhost:8080/"
        },
        "id": "ydHWvyU9QsV6",
        "outputId": "9f717529-c57d-432f-ea55-05278ea12adf"
      },
      "source": [
        "np = int(input(\"Introduceun numero: \"))\n",
        "if np % 2 == 0:\n",
        "  print(\"El numero\",np,\"es par\")\n",
        "else:\n",
        "  print(\"El numero\",np,\"es impar\")"
      ],
      "execution_count": 7,
      "outputs": [
        {
          "output_type": "stream",
          "text": [
            "Introduceun numero: 4\n",
            "El numero 4 es par\n"
          ],
          "name": "stdout"
        }
      ]
    },
    {
      "cell_type": "markdown",
      "metadata": {
        "id": "jND1J8TmSZVb"
      },
      "source": [
        "  **Ejercicio 4.2**"
      ]
    },
    {
      "cell_type": "code",
      "metadata": {
        "colab": {
          "base_uri": "https://localhost:8080/"
        },
        "id": "SStpSMxISbl6",
        "outputId": "6bded404-e8f4-4cc0-cf58-f5b915488185"
      },
      "source": [
        "desc=0\n",
        "primo = int(input(\"Introduce un numero: \"))\n",
        "if primo % 2 == 0:\n",
        "  print(\"El numero\",primo,\"es par\")\n",
        "else:\n",
        "  for i in range(1,primo+1):\n",
        "    primo % i\n",
        "    if primo % i == 0:\n",
        "      desc=desc+1\n",
        "    else:\n",
        "      desc=desc\n",
        "if desc==2:\n",
        "  print(\"Es primo\")\n",
        "else:\n",
        "  print(\"No es primo\")"
      ],
      "execution_count": 8,
      "outputs": [
        {
          "output_type": "stream",
          "text": [
            "Introduce un numero: 13\n",
            "Es primo\n"
          ],
          "name": "stdout"
        }
      ]
    },
    {
      "cell_type": "markdown",
      "metadata": {
        "id": "SOkGI5AAbeq7"
      },
      "source": [
        "**Ejercicio 5**"
      ]
    },
    {
      "cell_type": "code",
      "metadata": {
        "colab": {
          "base_uri": "https://localhost:8080/"
        },
        "id": "jlSmyQXebg4E",
        "outputId": "2c7482a0-8caa-438c-e253-27e1ec0a0c91"
      },
      "source": [
        "n1=int(input(\"Ingrese un numero: \"))\n",
        "n2=int(input(\"Ingrese otro numero: \"))\n",
        "def Suma(n1,n2):\n",
        "    c=n1+n2\n",
        "    return c\n",
        "print(\"Suma= \",Suma(n1,n2))\n",
        "\n",
        "def Resta(n1,n2):\n",
        "    c=n1-n2\n",
        "    return c\n",
        "print(\"Resta= \",Resta(n1,n2))\n",
        "\n",
        "def Multiplicacion(n1,n2):\n",
        "    c=n1*n2\n",
        "    return c\n",
        "print(\"Multiplicacion= \",Multiplicacion(n1,n2))\n",
        "\n",
        "def Division(n1,n2):\n",
        "    c=n1/n2\n",
        "    return c\n",
        "print(\"Division= \",Division(n1,n2))\n",
        "def Exponente(n1,n2):\n",
        "    c=n1**n2\n",
        "    return c\n",
        "print(\"Exponente=\",Exponente(n1,n2))"
      ],
      "execution_count": 9,
      "outputs": [
        {
          "output_type": "stream",
          "text": [
            "Ingrese un numero: 2\n",
            "Ingrese otro numero: 3\n",
            "Suma=  5\n",
            "Resta=  -1\n",
            "Multiplicacion=  6\n",
            "Division=  0.6666666666666666\n",
            "Exponente= 8\n"
          ],
          "name": "stdout"
        }
      ]
    },
    {
      "cell_type": "markdown",
      "metadata": {
        "id": "Zge6WZinhA99"
      },
      "source": [
        "**Tuplas**"
      ]
    },
    {
      "cell_type": "code",
      "metadata": {
        "colab": {
          "base_uri": "https://localhost:8080/"
        },
        "id": "vlqui0HqiK9F",
        "outputId": "1347b524-afd0-4113-9002-00b2fee43c1e"
      },
      "source": [
        "x=10\n",
        "print(type(x))\n",
        "y=5.55\n",
        "print(type(y))\n",
        "z=True\n",
        "print(type(z))\n",
        "w=complex(10)\n",
        "print(type(w))"
      ],
      "execution_count": 10,
      "outputs": [
        {
          "output_type": "stream",
          "text": [
            "<class 'int'>\n",
            "<class 'float'>\n",
            "<class 'bool'>\n",
            "<class 'complex'>\n"
          ],
          "name": "stdout"
        }
      ]
    },
    {
      "cell_type": "code",
      "metadata": {
        "colab": {
          "base_uri": "https://localhost:8080/"
        },
        "id": "SdCSogXhoM37",
        "outputId": "197823b3-1c78-4bcd-886d-664f9626b8e9"
      },
      "source": [
        "t=(2,4,8,16,32)\n",
        "print(\"Primer valor=\",t[0])\n",
        "print(\"Ultimo valor=\",t[-1])"
      ],
      "execution_count": 11,
      "outputs": [
        {
          "output_type": "stream",
          "text": [
            "Primer valor= 2\n",
            "Ultimo valor= 32\n"
          ],
          "name": "stdout"
        }
      ]
    },
    {
      "cell_type": "code",
      "metadata": {
        "colab": {
          "base_uri": "https://localhost:8080/"
        },
        "id": "xFZK-aOsoS2b",
        "outputId": "97c8b523-03d1-40ff-a072-59fca78e974f"
      },
      "source": [
        "t.__add__((\"cuarenta\",\"cincuenta\",\"sesenta\"))"
      ],
      "execution_count": 12,
      "outputs": [
        {
          "output_type": "execute_result",
          "data": {
            "text/plain": [
              "(2, 4, 8, 16, 32, 'cuarenta', 'cincuenta', 'sesenta')"
            ]
          },
          "metadata": {},
          "execution_count": 12
        }
      ]
    },
    {
      "cell_type": "code",
      "metadata": {
        "colab": {
          "base_uri": "https://localhost:8080/"
        },
        "id": "ARDHMB5goaBH",
        "outputId": "b8e7b57e-aea6-4092-ce59-c7e2c5f7b811"
      },
      "source": [
        "a=int(input(\"Buscar en la tupla: \",))\n",
        "if a in t:\n",
        "  print(\"Esta en la tupla\")\n",
        "else:\n",
        "  print(\"No esta en la tupla\")"
      ],
      "execution_count": 13,
      "outputs": [
        {
          "output_type": "stream",
          "text": [
            "Buscar en la tupla: 8\n",
            "Esta en la tupla\n"
          ],
          "name": "stdout"
        }
      ]
    },
    {
      "cell_type": "markdown",
      "metadata": {
        "id": "8AR2Ps5joijU"
      },
      "source": [
        "**Listas**"
      ]
    },
    {
      "cell_type": "code",
      "metadata": {
        "colab": {
          "base_uri": "https://localhost:8080/"
        },
        "id": "FiD6BFooojxM",
        "outputId": "4072dada-cfa0-46c5-a07a-d0cee6ca85ce"
      },
      "source": [
        "import random as r\n",
        "l = []\n",
        "for i in range (0,40):\n",
        "    l.append(r.randint(1,100))\n",
        "    \n",
        "print (l)"
      ],
      "execution_count": 14,
      "outputs": [
        {
          "output_type": "stream",
          "text": [
            "[44, 70, 74, 8, 84, 14, 10, 81, 45, 81, 24, 75, 37, 17, 20, 52, 11, 61, 2, 93, 29, 13, 52, 74, 57, 33, 8, 16, 56, 20, 86, 74, 86, 43, 44, 67, 31, 69, 10, 85]\n"
          ],
          "name": "stdout"
        }
      ]
    },
    {
      "cell_type": "code",
      "metadata": {
        "colab": {
          "base_uri": "https://localhost:8080/"
        },
        "id": "dTfhT8JPoq4O",
        "outputId": "0c8963c4-79a4-4f59-ef35-99723738a115"
      },
      "source": [
        "def Dividir(lf):\n",
        "  lpar=list()\n",
        "  limp=list()\n",
        "  for i in range(0,len(lf)):\n",
        "    if lf[i]%2==0:\n",
        "      lpar.append(lf[i])\n",
        "    else:\n",
        "      limp.append(lf[i])\n",
        "  return((lpar),(limp))\n",
        "\n",
        "Div=Dividir(l)\n",
        "print(\"Pares: \",Div[0])\n",
        "print(\"Impares: \",Div[1])"
      ],
      "execution_count": 15,
      "outputs": [
        {
          "output_type": "stream",
          "text": [
            "Pares:  [44, 70, 74, 8, 84, 14, 10, 24, 20, 52, 2, 52, 74, 8, 16, 56, 20, 86, 74, 86, 44, 10]\n",
            "Impares:  [81, 45, 81, 75, 37, 17, 11, 61, 93, 29, 13, 57, 33, 43, 67, 31, 69, 85]\n"
          ],
          "name": "stdout"
        }
      ]
    },
    {
      "cell_type": "code",
      "metadata": {
        "colab": {
          "base_uri": "https://localhost:8080/"
        },
        "id": "ibg-31egosG6",
        "outputId": "393ab8f5-0da7-4e46-c5a1-796c1418ee38"
      },
      "source": [
        "\n",
        "lenpar=len(Div[0])\n",
        "lenimp=len(Div[1])\n",
        "print(\"Longitud de numeros pares: \",lenpar)\n",
        "print(\"Longitud de numeros impares: \",lenimp)"
      ],
      "execution_count": 16,
      "outputs": [
        {
          "output_type": "stream",
          "text": [
            "Longitud de numeros pares:  22\n",
            "Longitud de numeros impares:  18\n"
          ],
          "name": "stdout"
        }
      ]
    },
    {
      "cell_type": "code",
      "metadata": {
        "colab": {
          "base_uri": "https://localhost:8080/"
        },
        "id": "Ula_qYLho0sf",
        "outputId": "3d23cac9-7cff-49ac-a37a-41ab6d3a20f3"
      },
      "source": [
        "Div[0].sort(reverse=True)\n",
        "Div[1].sort()\n",
        "print(\"Lista de pares de mayor a menor: \",Div[0])\n",
        "print(\"Lista de impares de menor a mayor: \",Div[1])"
      ],
      "execution_count": 17,
      "outputs": [
        {
          "output_type": "stream",
          "text": [
            "Lista de pares de mayor a menor:  [86, 86, 84, 74, 74, 74, 70, 56, 52, 52, 44, 44, 24, 20, 20, 16, 14, 10, 10, 8, 8, 2]\n",
            "Lista de impares de menor a mayor:  [11, 13, 17, 29, 31, 33, 37, 43, 45, 57, 61, 67, 69, 75, 81, 81, 85, 93]\n"
          ],
          "name": "stdout"
        }
      ]
    },
    {
      "cell_type": "code",
      "metadata": {
        "colab": {
          "base_uri": "https://localhost:8080/"
        },
        "id": "My9PHTw_o5Is",
        "outputId": "611feebc-cae5-49d8-a1cd-d56557a0cb5e"
      },
      "source": [
        "l.append(1)\n",
        "print(l)\n",
        "l.insert(5,10)\n",
        "print(l)\n",
        "l.pop()\n",
        "print(l)\n",
        "l.remove(20)\n",
        "print(l)"
      ],
      "execution_count": 34,
      "outputs": [
        {
          "output_type": "stream",
          "text": [
            "[70, 74, 8, 84, 20, 20, 20, 20, 14, 10, 45, 24, 75, 37, 17, 20, 52, 11, 61, 93, 29, 13, 52, 74, 57, 33, 8, 16, 56, 20, 86, 74, 86, 43, 20, 44, 67, 31, 69, 10, 1, 1, 1, 1]\n",
            "[70, 74, 8, 84, 20, 10, 20, 20, 20, 14, 10, 45, 24, 75, 37, 17, 20, 52, 11, 61, 93, 29, 13, 52, 74, 57, 33, 8, 16, 56, 20, 86, 74, 86, 43, 20, 44, 67, 31, 69, 10, 1, 1, 1, 1]\n",
            "[70, 74, 8, 84, 20, 10, 20, 20, 20, 14, 10, 45, 24, 75, 37, 17, 20, 52, 11, 61, 93, 29, 13, 52, 74, 57, 33, 8, 16, 56, 20, 86, 74, 86, 43, 20, 44, 67, 31, 69, 10, 1, 1, 1]\n",
            "[70, 74, 8, 84, 10, 20, 20, 20, 14, 10, 45, 24, 75, 37, 17, 20, 52, 11, 61, 93, 29, 13, 52, 74, 57, 33, 8, 16, 56, 20, 86, 74, 86, 43, 20, 44, 67, 31, 69, 10, 1, 1, 1]\n"
          ],
          "name": "stdout"
        }
      ]
    },
    {
      "cell_type": "markdown",
      "metadata": {
        "id": "Q_zEm_nAo_TW"
      },
      "source": [
        "**Diccionarios**"
      ]
    },
    {
      "cell_type": "code",
      "metadata": {
        "colab": {
          "base_uri": "https://localhost:8080/"
        },
        "id": "RFUtjE2bo6as",
        "outputId": "bfc6c536-f41a-4c45-c637-ac8fbe127b8a"
      },
      "source": [
        "Dic={'Alan':20,'Isaac':19,'Gabriel':15,'Erick':21,'Celeste':20,'Valeria':25}\n",
        "Dic"
      ],
      "execution_count": 19,
      "outputs": [
        {
          "output_type": "execute_result",
          "data": {
            "text/plain": [
              "{'Alan': 20,\n",
              " 'Celeste': 20,\n",
              " 'Erick': 21,\n",
              " 'Gabriel': 15,\n",
              " 'Isaac': 19,\n",
              " 'Valeria': 25}"
            ]
          },
          "metadata": {},
          "execution_count": 19
        }
      ]
    },
    {
      "cell_type": "code",
      "metadata": {
        "colab": {
          "base_uri": "https://localhost:8080/"
        },
        "id": "_xeicwP2pDiP",
        "outputId": "be638632-8aa4-4ab3-e2e0-6e7a44fd14ef"
      },
      "source": [
        "l1=list(Dic.values())\n",
        "l1.sort()\n",
        "l1"
      ],
      "execution_count": 20,
      "outputs": [
        {
          "output_type": "execute_result",
          "data": {
            "text/plain": [
              "[15, 19, 20, 20, 21, 25]"
            ]
          },
          "metadata": {},
          "execution_count": 20
        }
      ]
    },
    {
      "cell_type": "code",
      "metadata": {
        "colab": {
          "base_uri": "https://localhost:8080/"
        },
        "id": "YxXUbyJmpKdK",
        "outputId": "86be8ee2-e521-4c36-940a-6fd5b970190b"
      },
      "source": [
        "for i in Dic:print(i)"
      ],
      "execution_count": 21,
      "outputs": [
        {
          "output_type": "stream",
          "text": [
            "Alan\n",
            "Isaac\n",
            "Gabriel\n",
            "Erick\n",
            "Celeste\n",
            "Valeria\n"
          ],
          "name": "stdout"
        }
      ]
    },
    {
      "cell_type": "code",
      "metadata": {
        "colab": {
          "base_uri": "https://localhost:8080/"
        },
        "id": "Iu96q7dCpPU7",
        "outputId": "c0f4b49f-efd6-45b2-cd00-39fb98f74625"
      },
      "source": [
        "Dic['Alexa']=12\n",
        "Dic['Gael']=11\n",
        "Dic"
      ],
      "execution_count": 22,
      "outputs": [
        {
          "output_type": "execute_result",
          "data": {
            "text/plain": [
              "{'Alan': 20,\n",
              " 'Alexa': 12,\n",
              " 'Celeste': 20,\n",
              " 'Erick': 21,\n",
              " 'Gabriel': 15,\n",
              " 'Gael': 11,\n",
              " 'Isaac': 19,\n",
              " 'Valeria': 25}"
            ]
          },
          "metadata": {},
          "execution_count": 22
        }
      ]
    },
    {
      "cell_type": "markdown",
      "metadata": {
        "id": "pbQPHONCpTHt"
      },
      "source": [
        "**Sets**"
      ]
    },
    {
      "cell_type": "code",
      "metadata": {
        "colab": {
          "base_uri": "https://localhost:8080/"
        },
        "id": "QntmA0uj8eVJ",
        "outputId": "ff0f7b0a-48ed-438d-b633-cf100f32eed5"
      },
      "source": [
        "import random as r\n",
        "li=[]\n",
        "for i in range(0,100):\n",
        "  li.append(r.randint(1,25))\n",
        "set1 = set(li)\n",
        "print(set1)"
      ],
      "execution_count": 23,
      "outputs": [
        {
          "output_type": "stream",
          "text": [
            "{1, 2, 3, 4, 5, 6, 7, 8, 9, 10, 11, 12, 13, 14, 15, 16, 17, 18, 19, 20, 21, 22, 23, 24, 25}\n"
          ],
          "name": "stdout"
        }
      ]
    },
    {
      "cell_type": "code",
      "metadata": {
        "colab": {
          "base_uri": "https://localhost:8080/"
        },
        "id": "8KWAkW2fDrs7",
        "outputId": "4bd7a2cf-da9a-410b-e127-17535f62bc33"
      },
      "source": [
        "len(set1)"
      ],
      "execution_count": 24,
      "outputs": [
        {
          "output_type": "execute_result",
          "data": {
            "text/plain": [
              "25"
            ]
          },
          "metadata": {},
          "execution_count": 24
        }
      ]
    },
    {
      "cell_type": "code",
      "metadata": {
        "colab": {
          "base_uri": "https://localhost:8080/"
        },
        "id": "LBPgSSf4D93k",
        "outputId": "e3bf9159-684c-44e5-c517-acef1039c7d0"
      },
      "source": [
        "li = []\n",
        "set2 = set()\n",
        "for i in range (0,5):\n",
        "    li.append(r.randint(1, 10))\n",
        "for i in range (0,len(li)):\n",
        "  if li[i] in set1:\n",
        "    set2.add(li[i])\n",
        "print(set2,\" estan en el set inicial\")"
      ],
      "execution_count": 25,
      "outputs": [
        {
          "output_type": "stream",
          "text": [
            "{8, 10, 3, 6}  estan en el set inicial\n"
          ],
          "name": "stdout"
        }
      ]
    }
  ]
}